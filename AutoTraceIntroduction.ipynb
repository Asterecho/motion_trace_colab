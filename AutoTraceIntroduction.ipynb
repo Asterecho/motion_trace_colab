{
  "nbformat": 4,
  "nbformat_minor": 0,
  "metadata": {
    "colab": {
      "name": "AutoTraceIntroduction.ipynb",
      "version": "0.3.2",
      "provenance": []
    },
    "kernelspec": {
      "name": "python3",
      "display_name": "Python 3"
    },
    "accelerator": "GPU"
  },
  "cells": [
    {
      "metadata": {
        "id": "tFapH7r7h4EO",
        "colab_type": "text"
      },
      "cell_type": "markdown",
      "source": [
        "# colab版MMD自動トレースへようこそ！"
      ]
    },
    {
      "metadata": {
        "id": "vgDngowWh8bc",
        "colab_type": "text"
      },
      "cell_type": "markdown",
      "source": [
        "このノートブックでは、以下をお伝えします。\n",
        "\n",
        "- colab (Google Colaboratory)とは\n",
        "- colabの使い方\n",
        "- MMD自動トレースの流れ"
      ]
    },
    {
      "metadata": {
        "id": "Atf--UGaiEAj",
        "colab_type": "text"
      },
      "cell_type": "markdown",
      "source": [
        "## colab (Google Colaboratory)とは"
      ]
    },
    {
      "metadata": {
        "id": "nt6wtv5siOEj",
        "colab_type": "text"
      },
      "cell_type": "markdown",
      "source": [
        "\n",
        "> Google Colaboratory(略称：colab (コラボ)) は、完全にクラウドで実行される Jupyter ノートブック環境です。設定不要で、無料でご利用になれます。\n",
        "\n",
        "> Jupyter Notebook (ジュピター・ノートブック) とは、ノートブックと呼ばれる形式で作成したプログラムを実行し、実行結果を記録しながら、データの分析作業を進めるためのツールです。\n",
        "\n",
        "Chrome もしくは Firefoxがあれば、後は全部Googleのクラウド上で、MMD自動トレースを実行することができます。\n",
        "実行結果のVMD等は、ご自分のローカル環境にダウンロードする事ができます。\n",
        "\n",
        "使い方に少しクセがあるので、この導入ノートブックで練習してみてから、MMD自動トレースを始めてください。"
      ]
    },
    {
      "metadata": {
        "id": "-cl6P0V1jDze",
        "colab_type": "text"
      },
      "cell_type": "markdown",
      "source": [
        "# colabの使い方"
      ]
    },
    {
      "metadata": {
        "id": "v0k-zhnUjYR8",
        "colab_type": "text"
      },
      "cell_type": "markdown",
      "source": [
        "※ここでは、Jupyter Notebookの操作方法も合わせて「colabの使い方」として扱います。そのため、一部正確な表現ではありません。ご了承下さい。"
      ]
    },
    {
      "metadata": {
        "id": "Dz-Yqw5u--4v",
        "colab_type": "text"
      },
      "cell_type": "markdown",
      "source": [
        "## 他人の作ったノートブックを実行する"
      ]
    },
    {
      "metadata": {
        "id": "oOX0rAE1_FpM",
        "colab_type": "text"
      },
      "cell_type": "markdown",
      "source": [
        "Excelのマクロのように、他人が作成したノートブックを実行するには、そのファイルへの許可が必要です。\n",
        "\n",
        "1．このノートブックのヘッダにある「PLAYGROUNDで開く」をクリックして下さい。\n",
        "\n",
        "![PLAYGROUND](https://drive.google.com/uc?export=view&id=1TC7YzkL5lnT1yZHP2zsm_a14f12TmPUn)\n",
        "\n",
        "2．作成者がGoogle以外の場合、確認ダイアログが出ます。\n",
        "\n",
        "![確認ダイアログ](https://drive.google.com/uc?export=view&id=10MEeVucbue6plAitm2p8yKveYHJmGgXd)\n",
        "\n",
        "3．ランタイムのリセットを行います\n",
        "\n",
        "![ランタイムのリセット](https://drive.google.com/uc?export=view&id=11pJrO0-boAmLH0sheH-G1bshA3goETPq)\n",
        "\n",
        "これでノートブックのセル（プログラム）を実行することができるようになりました。\n",
        "\n",
        "このダイアログは、セルの実行時にも表示される場合があります。その場合も同様に許可して下さい。\n"
      ]
    },
    {
      "metadata": {
        "id": "h-mK3nMeFMcb",
        "colab_type": "text"
      },
      "cell_type": "markdown",
      "source": [
        "## プログラムの実行"
      ]
    },
    {
      "metadata": {
        "id": "3SLEmu5ujvZ5",
        "colab_type": "text"
      },
      "cell_type": "markdown",
      "source": [
        "colabは「セル」と呼ばれる単位ごとに処理を実行することができます。\n",
        "\n",
        "この下に記載している、薄いグレーの欄の`[ ]`の部分にカーソルを合わせてみてください。\n"
      ]
    },
    {
      "metadata": {
        "id": "tfHWt-8dv9nU",
        "colab_type": "code",
        "colab": {}
      },
      "cell_type": "code",
      "source": [
        "!echo \"Hello MMD Auto Trace!\""
      ],
      "execution_count": 0,
      "outputs": []
    },
    {
      "metadata": {
        "id": "JrARkkuKkPpo",
        "colab_type": "text"
      },
      "cell_type": "markdown",
      "source": [
        "\n",
        "![セル1](https://drive.google.com/uc?export=view&id=1Iq65BhLYQAx8vBBgdfEsLO0VeOVMjJuS)\n",
        "\n",
        "カーソルを合わせると、三角の再生ボタンが表示されたのがお分かりでしょうか。\n",
        "\n",
        "![セル2](https://drive.google.com/uc?export=view&id=1_542_9rRF48Fr9TkLlERrT-1JCLG6VLU)\n",
        "\n",
        "この三角ボタンをクリックすると、セルが実行され、中に記載されているコードが順次処理されます。\n",
        "\n",
        "![セル3](https://drive.google.com/uc?export=view&id=19c52CCO_fsT7Xp86ArhUjXtcdaojrBvj)\n",
        "\n",
        "三角の周りの点線の円が回っている場合、そのセルは実行中もしくは実行待ちです。\n",
        "\n",
        "![タブ](https://drive.google.com/uc?export=view&id=1tW5V1O4z5Lftq-dLMn-7kB5lWCTrQ88i)\n",
        "\n",
        "実行中の場合、ブラウザタブのアイコンがグレーになります。\n",
        "\n",
        "![セル4](https://drive.google.com/uc?export=view&id=1PEcmTlmw_Y4PWWBVFsv7OHJS9_d9GEIr)\n",
        "\n",
        "実行結果はセルの下に出力されます。\n",
        "たったこれだけで、プログラムが実行されます。"
      ]
    },
    {
      "metadata": {
        "id": "tw2ZrQyoFR-s",
        "colab_type": "text"
      },
      "cell_type": "markdown",
      "source": [
        "## Googleドライブとの連携（読み込み）"
      ]
    },
    {
      "metadata": {
        "id": "7uOqWO5KFVOv",
        "colab_type": "text"
      },
      "cell_type": "markdown",
      "source": [
        "MMD自動トレースでは、Googleドライブにアップロードした動画を処理します。\n",
        "\n",
        "ここでは、Googleドライブとの連携を実際に確認してみてください。"
      ]
    },
    {
      "metadata": {
        "id": "Uof2npq1IsQT",
        "colab_type": "text"
      },
      "cell_type": "markdown",
      "source": [
        "1．Googleドライブに、\"autotrace\"というフォルダを作成して、\"input.mp4\" という動画ファイルをアップロードしてください。\n",
        "\n",
        "![アップロード](https://drive.google.com/uc?export=view&id=1gq-m_MUqmLe-I8VywuqWKaSFxMHejiqO)\n",
        "\n",
        "2．下のセルを実行すると、URLと入力欄が表示されます。\n",
        "\n",
        "![Googleドライブ認証](https://drive.google.com/uc?export=view&id=1Mu3AencjMOHc3ZMBxqAaTpBFixb1FZvW)\n",
        "\n",
        "3．URLをクリックすると、新しいタブが開いて、colabと連携するアカウントを聞かれます（聞かれなかった場合、次に進んで下さい）\n",
        "\n",
        "![アカウントの選択](https://drive.google.com/uc?export=view&id=1uS2HtoclPP-d4HF2m9iZ6F2ZuwGB3pXb)\n",
        "\n",
        "4．アカウントを選ぶと、リクエストの許可確認画面が出ますので、アカウントを確認して、「許可」を選択してください。\n",
        "\n",
        "![代替テキスト](https://drive.google.com/uc?export=view&id=1erLq1ZX-MJFFD9K6aWOZYOYzI2-IN_Fw)\n",
        "\n",
        "5．許可すると、認証コードの横にコピーボタンが表示されますので、コピーボタンをクリックして下さい。\n",
        "\n",
        "![認証コード](https://drive.google.com/uc?export=view&id=10fFOn8YSBdq0H5Q9oHDTYln4pWcOhdeI)\n",
        "\n",
        "6．colabの画面に戻ってきて、URLの下の入力欄にカーソルを合わせて、「Ctrl+V」で貼り付けて下さい。文字列は・で表示されます。\n",
        "\n",
        "![認証コード貼り付け](https://drive.google.com/uc?export=view&id=1vmAeCeWzugW211K-uJ4evb9wCrqPnR_Q)\n",
        "\n",
        "7．貼り付けたら、Enterをクリックします。認証には少し時間がかかります。\n",
        "\n",
        "8．下記のように、フォルダの中身とファイルサイズが取得できていれば成功です。\n",
        "\n",
        "![連携結果](https://drive.google.com/uc?export=view&id=1dZu9kkHMBlDovnS4ZHF5lLslVtqddaqt)\n",
        "\n",
        "それでは、下のセルを実行してみてください。"
      ]
    },
    {
      "metadata": {
        "id": "z6Qdxi5CGQD3",
        "colab_type": "code",
        "colab": {}
      },
      "cell_type": "code",
      "source": [
        "from google.colab import drive\n",
        "import os\n",
        "\n",
        "# Googleドライブマウント\n",
        "drive.mount('/gdrive')\n",
        "\n",
        "# 起点ディレクトリ\n",
        "base_path = \"/gdrive/My Drive/autotrace\"\n",
        "\n",
        "! echo \"autotraceフォルダの中身 -----------\"\n",
        "! ls \"$base_path\"\n",
        "! echo \"--------------------\"\n",
        "\n",
        "# 入力動画ファイル\n",
        "input_video = base_path + \"/input.mp4\"\n",
        "\n",
        "print(\"ファイル名: \", os.path.basename(input_video))\n",
        "print(\"ファイルサイズ: \", os.path.getsize(input_video))\n"
      ],
      "execution_count": 0,
      "outputs": []
    },
    {
      "metadata": {
        "id": "fndC3AcISU02",
        "colab_type": "text"
      },
      "cell_type": "markdown",
      "source": [
        "## Googleドライブとの連携（出力）"
      ]
    },
    {
      "metadata": {
        "id": "3_gAjNdVSZJG",
        "colab_type": "text"
      },
      "cell_type": "markdown",
      "source": [
        "1．読み込みに成功したら、次は出力してみましょう。\n",
        "\n",
        "2．下のセルを実行してみてください。"
      ]
    },
    {
      "metadata": {
        "id": "TMcUl9vmShcq",
        "colab_type": "code",
        "colab": {}
      },
      "cell_type": "code",
      "source": [
        "from google.colab import drive\n",
        "import os\n",
        "\n",
        "# Googleドライブマウント\n",
        "drive.mount('/gdrive')\n",
        "\n",
        "# 起点ディレクトリ\n",
        "base_path = \"/gdrive/My Drive/autotrace\"\n",
        "\n",
        "with open(base_path +'/output.txt', 'w') as f:\n",
        "  f.write('Google Drive 出力成功')\n",
        "\n",
        "! echo \"autotraceフォルダの中身 -----------\"\n",
        "! ls -l \"$base_path\"\n",
        "! echo \"--------------------\"\n",
        "\n",
        "! cat \"$base_path/output.txt\"\n"
      ],
      "execution_count": 0,
      "outputs": []
    },
    {
      "metadata": {
        "id": "s4TyEe9BTXkM",
        "colab_type": "text"
      },
      "cell_type": "markdown",
      "source": [
        "3．下の画像のように出力されていれば成功です。\n",
        "\n",
        "![dirve output](https://drive.google.com/uc?export=view&id=1dNEPMLJ20wzP7I7xczSL0Otmu5PHqBWL)\n",
        "\n",
        "4．Googleドライブの \"autotrace\"フォルダを確認すると、\"output.txt\"ファイルが出来ているはずです。\n",
        "\n",
        "![Googleドライブ](https://drive.google.com/uc?export=view&id=1UZ9WxOK8v2j2CTuDFnKknXrtnNv4gWN8)"
      ]
    },
    {
      "metadata": {
        "id": "GEzYaF9ndNm_",
        "colab_type": "text"
      },
      "cell_type": "markdown",
      "source": [
        "**注意点**\n",
        "\n",
        "Googleドライブに保存したデータは削除しても、ゴミ箱に移動するだけで、容量は減らないので、容量を減らすためには、「ゴミ場を空にする」を実行して下さい。"
      ]
    },
    {
      "metadata": {
        "id": "0r2HYz1wZLWy",
        "colab_type": "text"
      },
      "cell_type": "markdown",
      "source": [
        "## ランタイムの変更"
      ]
    },
    {
      "metadata": {
        "id": "FBlMHF4FZP80",
        "colab_type": "text"
      },
      "cell_type": "markdown",
      "source": [
        "MMD自動トレースでは、GPUを使って処理を行います。\n",
        "\n",
        "そのため、colabのランタイムをGPUに変更します。\n",
        "\n",
        "1．ヘッダの \"ランタイム\"　＞　\"ランタイムのタイプを変更\"　をクリックする\n",
        "\n",
        "![ランタイムの変更](https://drive.google.com/uc?export=view&id=1zTahIzv9HeRnpdZb9YAun7G1dtnI6cGW)\n",
        "\n",
        "2．2つめのプルダウンを選択し、\"GPU\"を選択して、\"保存\"をクリックする\n",
        "\n",
        "![GPU](https://drive.google.com/uc?export=view&id=15YcG93WTsu9TEUCCVYfYaVe0P1Y3Irc5)\n",
        "\n",
        "3．切り替えに少し時間がかかります。\n",
        "\n",
        "4．ヘッダの右側のディスク容量欄のところに緑色のチェックが入っていたら、切り替え完了です。\n",
        "\n",
        "![状態](https://drive.google.com/uc?export=view&id=1uKHxgwuDvqGNwxZ8TAKpLBAaqCfM3AH-)\n"
      ]
    },
    {
      "metadata": {
        "id": "eocqSH2z9Y6o",
        "colab_type": "text"
      },
      "cell_type": "markdown",
      "source": [
        "## エラーが起きた場合"
      ]
    },
    {
      "metadata": {
        "id": "15IIIYPX9eGx",
        "colab_type": "text"
      },
      "cell_type": "markdown",
      "source": [
        "エラーが起きた、ファイルが生成されない、など、colabを実行して困ったことがありましたら、以下の手順で報告してください。\n",
        "\n",
        "1．ヘッダ　＞　\"ドライブにコピー\"\n",
        "\n",
        "![ドライブにコピー](https://drive.google.com/uc?export=view&id=19hhscZPZgw_4rqh4wF1tq6cJcXDl3p_M)\n",
        "\n",
        "2．Googleドライブの　\"マイドライブ　＞　Colab Notebooks\" に、「○○.ipynbのコピー」が作成されます\n",
        "\n",
        "![Googleドライブ](https://drive.google.com/uc?export=view&id=1NTSW9oqdIhi_OaH7Fo0Kcm8WmpZSvMQE)\n",
        "\n",
        "3．コピーされたファイルを右クリックして、「共有」を選択して下さい。\n",
        "\n",
        "![共有](https://drive.google.com/uc?export=view&id=1QsPD1b4CYwiV5GhCuMXIuZpGYoH1f9Q5)\n",
        "\n",
        "4．以下を入力した後、「送信」ボタンをクリックして下さい。\n",
        " - ユーザー：garnet200521358@gmail.com\n",
        " - 権限：閲覧者\n",
        " - メモ：どのような操作を行ったか\n",
        "\n",
        "![共有設定](https://drive.google.com/uc?export=view&id=1CRJ43DI2tSS8U3Sj_dqCeOkkH4lX-8PD)\n",
        "\n",
        "5．送信されると、私宛に共有メールが届きます。\n",
        "\n",
        "6．コピーファイルには、あなたが実行した処理の結果も一緒に保存されていますので、それを確認して、お返事いたします。\n",
        "\n",
        "7．共有せずにご相談されたい場合は、Qiitaにてご連絡下さい。"
      ]
    },
    {
      "metadata": {
        "id": "EF4UQxGfbc1G",
        "colab_type": "text"
      },
      "cell_type": "markdown",
      "source": [
        "## 注意事項"
      ]
    },
    {
      "metadata": {
        "id": "Um9JVs8RbfmT",
        "colab_type": "text"
      },
      "cell_type": "markdown",
      "source": [
        " colabは使い捨ての環境です。\n",
        " \n",
        " 一度作成した環境は、12時間後には破棄されます。\n",
        " \n",
        "自分の環境に作ったMMD自動トレースのキットがすべて破棄されるので、環境設定( AutoTracePrepare.ipynb ) からやり直しです。\n",
        "\n",
        "Googleドライブとの連携も再設定が必要です。\n",
        "\n",
        "ただし、Googleドライブに保存したデータは消えません。\n",
        "\n",
        " \n",
        " また、90分無操作の状態が続くと、ノートブックのセッションが切れます\n",
        "\n",
        "この場合は、環境設定は残っていますが、変数が消えています。\n",
        "\n",
        "MMD自動トレースの処理 ( AutoTraceExec.ipynb ) の初めからやり直して下さい。"
      ]
    },
    {
      "metadata": {
        "id": "GUkkCj5EUJw7",
        "colab_type": "text"
      },
      "cell_type": "markdown",
      "source": [
        "操作方法の基本は以上となります。お疲れ様でした。"
      ]
    },
    {
      "metadata": {
        "id": "-iiF3wNiUYny",
        "colab_type": "text"
      },
      "cell_type": "markdown",
      "source": [
        "# MMD自動トレースの流れ"
      ]
    },
    {
      "metadata": {
        "id": "L7ytXELvVZ5_",
        "colab_type": "text"
      },
      "cell_type": "markdown",
      "source": [
        "簡単に、MMD自動トレースの処理の流れをご紹介します。"
      ]
    },
    {
      "metadata": {
        "id": "KCdEObAjUaKz",
        "colab_type": "text"
      },
      "cell_type": "markdown",
      "source": [
        "1．Googleドライブの \"autotrace\"フォルダに、半角英数字のファイル名で、トレースしたい動画をアップロードします。\n",
        "\n",
        "2．ランタイムを　\"GPU\"　に変更します。\n",
        "\n",
        "3．AutoTracePrepare.ipynb を実行します。\n",
        "\n",
        "4．AutoTraceExec.ipynb を実行します。\n",
        "\n",
        "5．Googleドライブの \"autotrace\"フォルダに、\"output\"フォルダが出来ているので、これをダウンロードします。\n",
        "\n",
        "6．MMD上のモデルにモーションデータを読み込んでください。\n",
        "\n",
        "以上です。\n",
        "詳しくは、各ノートブックの冒頭説明を確認してください。\n"
      ]
    },
    {
      "metadata": {
        "id": "TM09OP4TWcs-",
        "colab_type": "text"
      },
      "cell_type": "markdown",
      "source": [
        "それでは、素敵なMMDライフをお楽しみ下さい！"
      ]
    }
  ]
}