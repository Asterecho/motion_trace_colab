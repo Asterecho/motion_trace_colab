{
  "nbformat": 4,
  "nbformat_minor": 0,
  "metadata": {
    "colab": {
      "name": "MMDAutoTrace2.00.00.ipynb",
      "provenance": [],
      "collapsed_sections": [],
      "toc_visible": true
    },
    "kernelspec": {
      "name": "python3",
      "display_name": "Python 3"
    },
    "accelerator": "GPU"
  },
  "cells": [
    {
      "cell_type": "markdown",
      "metadata": {
        "id": "8oCs7zcAvs5p"
      },
      "source": [
        "# colab版MMD自動トレースv2へようこそ！(実行編)"
      ]
    },
    {
      "cell_type": "markdown",
      "metadata": {
        "id": "9GsUrjROxoDK"
      },
      "source": [
        "# 始めに\r\n",
        "\r\n",
        "このツールの稼働状況やメンテナンス情報はTwitter（[@miu200521358](https://twitter.com/miu200521358)）にて行っています。\r\n",
        "\r\n",
        "エラーになる、起動しない、などの場合、まずは現在の配布状況をご確認ください。\r\n",
        "\r\n",
        "リプやDM等でのお問い合わせも受け付けています。\r\n",
        "\r\n",
        "また、v2では会員登録後にダウンロードできる学習データが必要なため、会員登録をお願いしています。"
      ]
    },
    {
      "cell_type": "markdown",
      "metadata": {
        "id": "oe_4TOdDx37F"
      },
      "source": [
        "# 目次\r\n",
        "\r\n",
        "このノートブックでは、MMD自動トレースの準備と実行を行います。\r\n",
        "\r\n",
        "ノートブックの使い方にはクセがあるので、「[準備編](https://colab.research.google.com/github/miu200521358/motion_trace_colab/blob/master/AutoTraceIntroduction.ipynb)」で使い方に慣れてください。\r\n",
        "\r\n",
        "画面左上の「＝」（実際は三本線）をクリックして下さい。目次が開きます。（既に開いている場合は次へ進んでください）\r\n",
        "\r\n",
        "![目次](https://drive.google.com/uc?export=view&id=1HGk4sJmcPtMbMwcJOvE3aU1GjvKinwA_)\r\n",
        "\r\n",
        "\r\n",
        "ノートブックを上から順に確認し、以下手順をひとつずつ実行してください。\r\n",
        "\r\n",
        "実行が必要なセルには番号を振ってあります。①から順番に実行してください。\r\n",
        "\r\n",
        "\r\n",
        "- **「①　環境設定」**\r\n",
        "  - ランタイムがGPUに変更できたことを確認します\r\n",
        "    - 変更のやり方は、導入編をご確認ください\r\n",
        "  - Tensorflowのバージョンを1.xに変更します\r\n",
        "  - 効果音を[効果音ラボ](https://soundeffect-lab.info/)様よりダウンロードします\r\n",
        "   - 準備や実際のトレース処理等、長い処理時に鳴らします\r\n",
        "   - 不要の場合は、ブラウザの音量をミュートにしてください\r\n",
        "- **「②　Googleドライブ・SDKとの連携」**\r\n",
        "  - GoogleドライブまたSDK（ツール）と連携します\r\n",
        "  - 連携のやり方は、導入編をご確認ください\r\n",
        "- **「③　準備」**\r\n",
        "    - MMD自動トレースに必要なコードをcolab上に構築します。\r\n",
        "    - 大体10分くらいかかります。\r\n",
        "- **「④　データDL・配置」**\r\n",
        "    - MMD自動トレースに必要な学習データのうち、個別にDLしていただく必要のあるデータを配置します。\r\n",
        "- **「⑤　動画配置」**\r\n",
        "    - MMD自動トレースの対象となる映像データを配置します。\r\n",
        "- **「⑥　MMD自動トレース実行」**\r\n",
        "    - MMD自動トレースを実行します。\r\n",
        "\r\n",
        "---\r\n",
        "\r\n",
        "※作業中に下記のような警告が出ることがありますが、そのまま進めていただいて問題ありません\r\n",
        "\r\n",
        "![警告](https://drive.google.com/uc?export=view&id=1mRW32urnPQ4LS4xrLEoPdp_XCqlq1HUF)\r\n"
      ]
    },
    {
      "cell_type": "markdown",
      "metadata": {
        "id": "yYif75w8vuDT"
      },
      "source": [
        "# MMD自動トレース実行"
      ]
    },
    {
      "cell_type": "markdown",
      "metadata": {
        "id": "uVf7oqzN0KJC"
      },
      "source": [
        "## **①　環境設定**"
      ]
    },
    {
      "cell_type": "markdown",
      "metadata": {
        "id": "Wv4gj64t0APu"
      },
      "source": [
        "ヘッダの \"ランタイム\"　＞　\"ランタイムのタイプを変更\"　＞　\"GPU\"　を選択して下さい。\r\n",
        "\r\n",
        "変更できたら、下のセルを実行して下さい。"
      ]
    },
    {
      "cell_type": "code",
      "metadata": {
        "id": "lGYV6obv0FFv",
        "cellView": "form"
      },
      "source": [
        "#@markdown ■■■■■■■■■■■■■■■■■■\r\n",
        "\r\n",
        "#@markdown 【セル①】　\r\n",
        "#@markdown - ランタイムがGPUであることの確認\r\n",
        "#@markdown - Tensorflowのバージョンを 1.x に変更\r\n",
        "#@markdown - 効果音を[効果音ラボ](https://soundeffect-lab.info/)様よりダウンロード\r\n",
        "\r\n",
        "#@markdown ■■■■■■■■■■■■■■■■■■\r\n",
        "\r\n",
        "exec_dict = {}\r\n",
        "exec_dict['1'] = True\r\n",
        "\r\n",
        "! echo --------------\r\n",
        "! echo 【A】 ランタイムをGPUに変更\r\n",
        "! echo --------------\r\n",
        "\r\n",
        "! nvcc --version\r\n",
        "! nvidia-smi\r\n",
        "\r\n",
        "! echo --------------\r\n",
        "! echo 【B】 Tensorflowのバージョンを 1.x に変更\r\n",
        "! echo --------------\r\n",
        "\r\n",
        "%tensorflow_version 1.x\r\n",
        "\r\n",
        "%tensorflow_version\r\n",
        "\r\n",
        "! echo --------------\r\n",
        "! echo 【C】 効果音をダウンロード\r\n",
        "! echo --------------\r\n",
        "\r\n",
        "! wget --no-check-certificate -c \"https://soundeffect-lab.info/sound/anime/mp3/sceneswitch1.mp3\"\r\n",
        "\r\n",
        "from IPython.display import Audio, display\r\n",
        "def play_sound():\r\n",
        "    try:\r\n",
        "        display(Audio(\"sceneswitch1.mp3\", autoplay=True))\r\n",
        "    except:\r\n",
        "        print(\"■■■■■■■■■■■■■■■\")\r\n",
        "        print(\"■　効果音が再生できませんでした\")\r\n",
        "        print(\"■■■■■■■■■■■■■■■\")\r\n",
        "\r\n",
        "play_sound()\r\n"
      ],
      "execution_count": null,
      "outputs": []
    },
    {
      "cell_type": "markdown",
      "metadata": {
        "id": "MFtzYGbg4zhJ"
      },
      "source": [
        "**【OK】**\r\n",
        "\r\n",
        "下記のように表示されて、最後に音が鳴ったら成功です。\r\n",
        "\r\n",
        "![GPU切り替え失敗](https://drive.google.com/uc?export=view&id=1WK0Oo3qQESB8hVlkvyWfsq17LUn3N308)\r\n",
        "\r\n",
        "---\r\n",
        "\r\n",
        "**【NG】**\r\n",
        "\r\n",
        "下記のように表示されていたら、ランタイムの変更に失敗しているので、導入編を再度確認して、ランタイムを変更してください。\r\n",
        "\r\n",
        "![GPU変更成功](https://drive.google.com/uc?export=view&id=1E230eOWMctbD2F7qTvn_fR-3gBRQQ_uQ)\r\n"
      ]
    },
    {
      "cell_type": "markdown",
      "metadata": {
        "id": "sj7qFjn46EK3"
      },
      "source": [
        "## ②　Googleドライブ・SDKとの連携\r\n",
        "\r\n",
        "Googleドライブの `autotrace` フォルダと連携します。\r\n",
        "\r\n",
        "下のAとBのセルを順番に実行してください。"
      ]
    },
    {
      "cell_type": "markdown",
      "metadata": {
        "id": "nZreTNgwipgE"
      },
      "source": [
        "### ②-A Googleドライブとの連携"
      ]
    },
    {
      "cell_type": "code",
      "metadata": {
        "id": "L6UsSufU6WBv",
        "cellView": "form"
      },
      "source": [
        "#@markdown ■■■■■■■■■■■■■■■■■■\r\n",
        "\r\n",
        "#@markdown 【セル②-A】　Googleドライブとの連携\r\n",
        "\r\n",
        "#@markdown ■■■■■■■■■■■■■■■■■■\r\n",
        "\r\n",
        "if not exec_dict or '1' not in exec_dict.keys():\r\n",
        "    print(\"■■■■■■■■■■■■■■■\")\r\n",
        "    print(\"■　** ERROR **\")\r\n",
        "    print(\"■　セル①が実行されていない可能性があります。\")\r\n",
        "    print(\"■　目次から戻って実行してください。\")\r\n",
        "    print(\"■■■■■■■■■■■■■■■\")\r\n",
        "\r\n",
        "from google.colab import drive\r\n",
        "import os\r\n",
        "\r\n",
        "# Googleドライブマウント\r\n",
        "drive.mount('/gdrive')\r\n",
        "\r\n",
        "# 起点ディレクトリ\r\n",
        "base_path = \"/gdrive/My Drive/autotrace\"\r\n",
        "\r\n",
        "if os.path.exists(base_path):\r\n",
        "    ! echo \"autotraceフォルダの中身 -----------\"\r\n",
        "    ! ls -l \"$base_path\"\r\n",
        "    ! echo \"--------------------\"\r\n",
        "\r\n",
        "    print(\"■■■■■■■■■■■■■■■\")\r\n",
        "    print(\"■　** OK **\")\r\n",
        "    print(\"■　autotraceフォルダとの連携が成功しました。\")\r\n",
        "    print(\"■■■■■■■■■■■■■■■\")\r\n",
        "\r\n",
        "    exec_dict['2-A'] = True\r\n",
        "else:\r\n",
        "    print(\"■■■■■■■■■■■■■■■\")\r\n",
        "    print(\"■　** ERROR **\")\r\n",
        "    print(\"■　autotraceフォルダがGoogleドライブの直下に見つかりませんでした。\")\r\n",
        "    print(\"■　準備編から実行し直してください。\")\r\n",
        "    print(\"■■■■■■■■■■■■■■■\")\r\n",
        "\r\n",
        "play_sound()"
      ],
      "execution_count": null,
      "outputs": []
    },
    {
      "cell_type": "markdown",
      "metadata": {
        "id": "ebEeC4TE7NFE"
      },
      "source": [
        "**【OK】**\r\n",
        "\r\n",
        "下記のように、「autotrace」フォルダの中身が表示されていたら成功です。\r\n",
        "\r\n",
        "![Googleドライブ連携](https://drive.google.com/uc?export=view&id=19OhLvcyP-CN90KWDmkmBuSRR3BpO5GzV)\r\n",
        "\r\n",
        "---\r\n",
        "\r\n",
        "**【NG】**\r\n",
        "\r\n",
        "下記のように、エラーが出ていたら、セル①が実行されていません。\r\n",
        "\r\n",
        "もしくは環境が既に破棄されています。\r\n",
        "\r\n",
        "目次からセル①に戻って、実行し直してください。\r\n",
        "\r\n",
        "![Googleドライブ連携](https://drive.google.com/uc?export=view&id=1Tsjzs2QAECPMfUTaTh7PYX2cMEypEIF2)"
      ]
    },
    {
      "cell_type": "markdown",
      "metadata": {
        "id": "oMaLxuoO85fg"
      },
      "source": [
        "miuのGoogleドライブから必要なデータをDLするため、`GoogleSDK` と連携します。\r\n",
        "\r\n",
        "セル②-Aと同じく、URLからアクセス許可を与えてください。\r\n",
        "\r\n",
        "下のセルを実行してください。"
      ]
    },
    {
      "cell_type": "markdown",
      "metadata": {
        "id": "cdZadKgyi3Aw"
      },
      "source": [
        "### ②-B GoogleSDKとの連携"
      ]
    },
    {
      "cell_type": "code",
      "metadata": {
        "id": "1d90PWht8NzE",
        "cellView": "form"
      },
      "source": [
        "\r\n",
        "\r\n",
        "#@markdown ■■■■■■■■■■■■■■■■■■\r\n",
        "\r\n",
        "#@markdown 【セル②-B】　GoogleSDKとの連携\r\n",
        "\r\n",
        "#@markdown ■■■■■■■■■■■■■■■■■■\r\n",
        "\r\n",
        "# Googleドライブアクセスライブラリ\r\n",
        "!pip install -U -q PyDrive\r\n",
        "\r\n",
        "from pydrive.auth import GoogleAuth\r\n",
        "from pydrive.drive import GoogleDrive\r\n",
        "from google.colab import auth\r\n",
        "from oauth2client.client import GoogleCredentials\r\n",
        " \r\n",
        "auth.authenticate_user()\r\n",
        "gauth = GoogleAuth()\r\n",
        "gauth.credentials = GoogleCredentials.get_application_default()\r\n",
        "drive = GoogleDrive(gauth)\r\n",
        "\r\n",
        "if not exec_dict or '1' not in exec_dict.keys():\r\n",
        "    print(\"■■■■■■■■■■■■■■■\")\r\n",
        "    print(\"■　** ERROR **\")\r\n",
        "    print(\"■　セル①が実行されていない可能性があります。\")\r\n",
        "    print(\"■　目次から戻って実行してください。\")\r\n",
        "    print(\"■■■■■■■■■■■■■■■\")\r\n",
        "\r\n",
        "if not exec_dict or '2-A' not in exec_dict.keys():\r\n",
        "    print(\"■■■■■■■■■■■■■■■\")\r\n",
        "    print(\"■　** ERROR **\")\r\n",
        "    print(\"■　セル②-Aが実行されていない可能性があります。\")\r\n",
        "    print(\"■　目次から戻って実行してください。\")\r\n",
        "    print(\"■■■■■■■■■■■■■■■\")\r\n",
        "\r\n",
        "exec_dict['2-B'] = True\r\n",
        "\r\n",
        "print(\"■■■■■■■■■■■■■■■\")\r\n",
        "print(\"■　** OK **\")\r\n",
        "print(\"■　Google SDK との連携が成功しました。\")\r\n",
        "print(\"■■■■■■■■■■■■■■■\")\r\n",
        "\r\n",
        "play_sound()"
      ],
      "execution_count": null,
      "outputs": []
    },
    {
      "cell_type": "markdown",
      "metadata": {
        "id": "PIu57C149Ono"
      },
      "source": [
        "**【OK】**\r\n",
        "\r\n",
        "下記のようにメッセージが表示されていたら成功です。\r\n",
        "\r\n",
        "![Googleドライブ連携](https://drive.google.com/uc?export=view&id=1NiBFAK47dJLEcTagWGQrrHgnpKzsudvt)\r\n"
      ]
    },
    {
      "cell_type": "markdown",
      "metadata": {
        "id": "w0p_WxUc-jz7"
      },
      "source": [
        "## **③　準備**\r\n",
        "\r\n",
        "MMD自動トレースコードをColab上に構築します。\r\n",
        "\r\n",
        "下のセルを実行してください。\r\n",
        "\r\n",
        "たくさんメッセージが出ます。\r\n",
        "\r\n",
        "セル①でDLした音が鳴ったら終了です。"
      ]
    },
    {
      "cell_type": "code",
      "metadata": {
        "cellView": "form",
        "id": "PyGvHSTo-uPb"
      },
      "source": [
        "#@markdown ■■■■■■■■■■■■■■■■■■\r\n",
        "\r\n",
        "#@markdown 【セル③】　コード準備実行\r\n",
        "\r\n",
        "#@markdown ■■■■■■■■■■■■■■■■■■\r\n",
        "\r\n",
        "exec_dict['3'] = True\r\n",
        "\r\n",
        "# MMD自動トレースキットバージョンタグ\r\n",
        "ver_tag = \"work_v1.00\"\r\n",
        "\r\n",
        "! git clone  --depth 1 -b \"$ver_tag\" \"https://github.com/miu200521358/expose_mmd.git\"\r\n",
        "\r\n",
        "! pip install -r \"expose_mmd/requirements.txt\"\r\n",
        "\r\n",
        "import os \r\n",
        "os.environ[\"CUDA_HOME\"]=\"/usr/local/cuda\"\r\n",
        "os.environ[\"LD_LIBRARY_PATH\"]=\"/usr/local/cuda/lib64\"\r\n",
        "\r\n",
        "! cd expose_mmd/lighttrack/lib/ && python setup.py install\r\n",
        "! cd expose_mmd/lighttrack/graph/torchlight && python setup.py install\r\n",
        "\r\n",
        "if not exec_dict or '1' not in exec_dict.keys():\r\n",
        "    print(\"■■■■■■■■■■■■■■■\")\r\n",
        "    print(\"■　** ERROR **\")\r\n",
        "    print(\"■　セル①が実行されていない可能性があります。\")\r\n",
        "    print(\"■　目次から戻って実行してください。\")\r\n",
        "    print(\"■■■■■■■■■■■■■■■\")\r\n",
        "\r\n",
        "if not exec_dict or '2-A' not in exec_dict.keys():\r\n",
        "    print(\"■■■■■■■■■■■■■■■\")\r\n",
        "    print(\"■　** ERROR **\")\r\n",
        "    print(\"■　セル②-Aが実行されていない可能性があります。\")\r\n",
        "    print(\"■　目次から戻って実行してください。\")\r\n",
        "    print(\"■■■■■■■■■■■■■■■\")\r\n",
        "\r\n",
        "if not exec_dict or '2-B' not in exec_dict.keys():\r\n",
        "    print(\"■■■■■■■■■■■■■■■\")\r\n",
        "    print(\"■　** ERROR **\")\r\n",
        "    print(\"■　セル②-Bが実行されていない可能性があります。\")\r\n",
        "    print(\"■　目次から戻って実行してください。\")\r\n",
        "    print(\"■■■■■■■■■■■■■■■\")\r\n",
        "\r\n",
        "print(\"■■■■■■■■■■■■■■■\")\r\n",
        "print(\"■　** OK **\")\r\n",
        "print(\"■　コードの構築が完了しました。\")\r\n",
        "print(\"■■■■■■■■■■■■■■■\")\r\n",
        "\r\n",
        "play_sound()"
      ],
      "execution_count": null,
      "outputs": []
    },
    {
      "cell_type": "markdown",
      "metadata": {
        "id": "SXZDL-JDilSe"
      },
      "source": [
        "## **④　データDL・配置**\r\n",
        "\r\n",
        "人物推定に必要なデータを2件、それぞれのサイトに会員登録して、ダウンロードしてください。"
      ]
    },
    {
      "cell_type": "markdown",
      "metadata": {
        "id": "Q7_RGODpJYhK"
      },
      "source": [
        "1. [ExPoseプロジェクトページ](https://expose.is.tue.mpg.de) にアクセスしてください。\r\n",
        "\r\n",
        "2. 「SignIn」ボタンをクリックしてください。\r\n",
        "\r\n",
        "![SignIn](https://drive.google.com/uc?export=view&id=1__io7EjqFQnhq08Zi_YfxKUeSottZWJl)\r\n",
        "\r\n",
        "3. 「Register」ボタンをクリックしてください。\r\n",
        "\r\n",
        "![SignIn](https://drive.google.com/uc?export=view&id=1B8mJPJuTdHANo0UJ71Gue6CmznSDCdbw)\r\n",
        "\r\n",
        "4. 「メールアドレス」「パスワード」を入力して、スイッチをすべてONにして、「Register」ボタンをクリックしてください。\r\n",
        "\r\n",
        "![SignIn](https://drive.google.com/uc?export=view&id=1R2jCZHKJu71hXLW2KHhSLswDjwJEWEiZ)\r\n",
        "\r\n",
        "5. 届いたメールのリンクをクリックしてください。\r\n",
        "\r\n",
        "6. 登録した「メールアドレス」「パスワード」を入力して、「LogIn」ボタンをクリックしてください。\r\n",
        "\r\n",
        "![SignIn](https://drive.google.com/uc?export=view&id=1loay_bPetEBQfaOQIpS_JCLhZrFHolyF)\r\n",
        "\r\n",
        "7. 「Download」ボタンをクリックしてください。\r\n",
        "\r\n",
        "![SignIn](https://drive.google.com/uc?export=view&id=1GFhczKTl5Mc6E6PSRXT0hznCVfo-FWDr)\r\n",
        "\r\n",
        "8. 画面中程の「ExPose Model」ボタンをクリックしてください。\r\n",
        "\r\n",
        "![SignIn](https://drive.google.com/uc?export=view&id=1FjaHb9yGr52nI27xBLHAQBBz4gOEnR6x)\r\n",
        "\r\n",
        "9. ダウンロードしたzipファイル（expose_data.zip）を、`autotrace` フォルダに置いてください。\r\n",
        "\r\n",
        "10. 下のセルを実行してください。\r\n",
        "\r\n"
      ]
    },
    {
      "cell_type": "markdown",
      "metadata": {
        "id": "7nHy6A7ni8cI"
      },
      "source": [
        "### ④-A ExPose学習データ"
      ]
    },
    {
      "cell_type": "code",
      "metadata": {
        "id": "9rvPkHvTdNrU",
        "cellView": "form"
      },
      "source": [
        "\r\n",
        "\r\n",
        "#@markdown ■■■■■■■■■■■■■■■■■■\r\n",
        "\r\n",
        "#@markdown 【セル④-A】　expose_data の配置\r\n",
        "\r\n",
        "#@markdown ■■■■■■■■■■■■■■■■■■\r\n",
        "\r\n",
        "if not exec_dict or '1' not in exec_dict.keys():\r\n",
        "    print(\"■■■■■■■■■■■■■■■\")\r\n",
        "    print(\"■　** ERROR **\")\r\n",
        "    print(\"■　セル①が実行されていない可能性があります。\")\r\n",
        "    print(\"■　目次から戻って実行してください。\")\r\n",
        "    print(\"■■■■■■■■■■■■■■■\")\r\n",
        "\r\n",
        "if not exec_dict or '2-A' not in exec_dict.keys():\r\n",
        "    print(\"■■■■■■■■■■■■■■■\")\r\n",
        "    print(\"■　** ERROR **\")\r\n",
        "    print(\"■　セル②-Aが実行されていない可能性があります。\")\r\n",
        "    print(\"■　目次から戻って実行してください。\")\r\n",
        "    print(\"■■■■■■■■■■■■■■■\")\r\n",
        "\r\n",
        "if not exec_dict or '2-B' not in exec_dict.keys():\r\n",
        "    print(\"■■■■■■■■■■■■■■■\")\r\n",
        "    print(\"■　** ERROR **\")\r\n",
        "    print(\"■　セル②-Bが実行されていない可能性があります。\")\r\n",
        "    print(\"■　目次から戻って実行してください。\")\r\n",
        "    print(\"■■■■■■■■■■■■■■■\")\r\n",
        "\r\n",
        "if not exec_dict or '3' not in exec_dict.keys():\r\n",
        "    print(\"■■■■■■■■■■■■■■■\")\r\n",
        "    print(\"■　** ERROR **\")\r\n",
        "    print(\"■　セル③が実行されていない可能性があります。\")\r\n",
        "    print(\"■　目次から戻って実行してください。\")\r\n",
        "    print(\"■■■■■■■■■■■■■■■\")\r\n",
        "\r\n",
        "exec_dict['4-A'] = True\r\n",
        "\r\n",
        "expose_data_path = f\"{base_path}/expose_data.zip\"\r\n",
        "\r\n",
        "if not os.path.exists(expose_data_path):\r\n",
        "    print(\"■■■■■■■■■■■■■■■\")\r\n",
        "    print(\"■　** ERROR **\")\r\n",
        "    print(\"■　autotrace 直下に expose_data.zip が見つかりませんでした。\")\r\n",
        "    print(\"■■■■■■■■■■■■■■■\")\r\n",
        "else:\r\n",
        "    ! cp \"$expose_data_path\" . && unzip ./expose_data.zip && mv data expose_mmd/\r\n",
        "\r\n",
        "print(\"■■■■■■■■■■■■■■■\")\r\n",
        "print(\"■　** OK **\")\r\n",
        "print(\"■　expose_data の配置が成功しました。\")\r\n",
        "print(\"■■■■■■■■■■■■■■■\")\r\n",
        "\r\n",
        "play_sound()"
      ],
      "execution_count": null,
      "outputs": []
    },
    {
      "cell_type": "markdown",
      "metadata": {
        "id": "Zf_DKKFJjK2R"
      },
      "source": [
        "1. [SMPL-Xプロジェクトページ](https://smpl-x.is.tue.mpg.de) にアクセスしてください。\r\n",
        "\r\n",
        "2. Exposeと同様に会員登録をしてください。\r\n",
        "\r\n",
        "3. 画面上部の「download SMPL-X v1.1」ボタンをクリックしてください。\r\n",
        "\r\n",
        "![SignIn](https://drive.google.com/uc?export=view&id=1cGOHUdhDtSOfIqIHYUXhQTc5ki5pgl85)\r\n",
        "\r\n",
        "4. ダウンロードしたzipファイル（models_smplx_v1_1.zip）を、`autotrace` フォルダに置いてください。\r\n",
        "\r\n",
        "5. 下のセルを実行してください。"
      ]
    },
    {
      "cell_type": "markdown",
      "metadata": {
        "id": "b43Zh2-FjAeO"
      },
      "source": [
        "### ④-B SMPL-X学習データ"
      ]
    },
    {
      "cell_type": "code",
      "metadata": {
        "id": "jLK03OXBkOuW",
        "cellView": "form"
      },
      "source": [
        "\r\n",
        "#@markdown ■■■■■■■■■■■■■■■■■■\r\n",
        "\r\n",
        "#@markdown 【セル④-B】　SMPL-Xデータ の配置\r\n",
        "\r\n",
        "#@markdown ■■■■■■■■■■■■■■■■■■\r\n",
        "\r\n",
        "if not exec_dict or '1' not in exec_dict.keys():\r\n",
        "    print(\"■■■■■■■■■■■■■■■\")\r\n",
        "    print(\"■　** ERROR **\")\r\n",
        "    print(\"■　セル①が実行されていない可能性があります。\")\r\n",
        "    print(\"■　目次から戻って実行してください。\")\r\n",
        "    print(\"■■■■■■■■■■■■■■■\")\r\n",
        "\r\n",
        "if not exec_dict or '2-A' not in exec_dict.keys():\r\n",
        "    print(\"■■■■■■■■■■■■■■■\")\r\n",
        "    print(\"■　** ERROR **\")\r\n",
        "    print(\"■　セル②-Aが実行されていない可能性があります。\")\r\n",
        "    print(\"■　目次から戻って実行してください。\")\r\n",
        "    print(\"■■■■■■■■■■■■■■■\")\r\n",
        "\r\n",
        "if not exec_dict or '2-B' not in exec_dict.keys():\r\n",
        "    print(\"■■■■■■■■■■■■■■■\")\r\n",
        "    print(\"■　** ERROR **\")\r\n",
        "    print(\"■　セル②-Bが実行されていない可能性があります。\")\r\n",
        "    print(\"■　目次から戻って実行してください。\")\r\n",
        "    print(\"■■■■■■■■■■■■■■■\")\r\n",
        "\r\n",
        "if not exec_dict or '3' not in exec_dict.keys():\r\n",
        "    print(\"■■■■■■■■■■■■■■■\")\r\n",
        "    print(\"■　** ERROR **\")\r\n",
        "    print(\"■　セル③が実行されていない可能性があります。\")\r\n",
        "    print(\"■　目次から戻って実行してください。\")\r\n",
        "    print(\"■■■■■■■■■■■■■■■\")\r\n",
        "\r\n",
        "if not exec_dict or '4-A' not in exec_dict.keys():\r\n",
        "    print(\"■■■■■■■■■■■■■■■\")\r\n",
        "    print(\"■　** ERROR **\")\r\n",
        "    print(\"■　セル④-Aが実行されていない可能性があります。\")\r\n",
        "    print(\"■　目次から戻って実行してください。\")\r\n",
        "    print(\"■■■■■■■■■■■■■■■\")\r\n",
        "\r\n",
        "exec_dict['4-B'] = True\r\n",
        "\r\n",
        "smplx_data_path = f\"{base_path}/models_smplx_v1_1.zip\"\r\n",
        "\r\n",
        "if not os.path.exists(smplx_data_path):\r\n",
        "    print(\"■■■■■■■■■■■■■■■\")\r\n",
        "    print(\"■　** ERROR **\")\r\n",
        "    print(\"■　autotrace 直下に models_smplx_v1_1.zip が見つかりませんでした。\")\r\n",
        "    print(\"■■■■■■■■■■■■■■■\")\r\n",
        "else:\r\n",
        "    ! cp \"$smplx_data_path\" . && unzip ./models_smplx_v1_1.zip && mv ./models expose_mmd/data\r\n",
        "\r\n",
        "print(\"■■■■■■■■■■■■■■■\")\r\n",
        "print(\"■　** OK **\")\r\n",
        "print(\"■　models_smplx_v1_1 の配置が成功しました。\")\r\n",
        "print(\"■■■■■■■■■■■■■■■\")\r\n",
        "\r\n",
        "play_sound()"
      ],
      "execution_count": null,
      "outputs": []
    },
    {
      "cell_type": "markdown",
      "metadata": {
        "id": "FSKu9WCtmOjB"
      },
      "source": [
        "### ④-C その他の学習データ\r\n",
        "\r\n",
        "下のセルを実行してください。色々とメッセージが出た後、音が鳴ります。"
      ]
    },
    {
      "cell_type": "code",
      "metadata": {
        "id": "mtIz8_ixmZSj",
        "cellView": "form"
      },
      "source": [
        "\r\n",
        "#@markdown ■■■■■■■■■■■■■■■■■■\r\n",
        "\r\n",
        "#@markdown 【セル④-C】　その他のデータの配置\r\n",
        "\r\n",
        "#@markdown ■■■■■■■■■■■■■■■■■■\r\n",
        "\r\n",
        "if not exec_dict or '1' not in exec_dict.keys():\r\n",
        "    print(\"■■■■■■■■■■■■■■■\")\r\n",
        "    print(\"■　** ERROR **\")\r\n",
        "    print(\"■　セル①が実行されていない可能性があります。\")\r\n",
        "    print(\"■　目次から戻って実行してください。\")\r\n",
        "    print(\"■■■■■■■■■■■■■■■\")\r\n",
        "\r\n",
        "if not exec_dict or '2-A' not in exec_dict.keys():\r\n",
        "    print(\"■■■■■■■■■■■■■■■\")\r\n",
        "    print(\"■　** ERROR **\")\r\n",
        "    print(\"■　セル②-Aが実行されていない可能性があります。\")\r\n",
        "    print(\"■　目次から戻って実行してください。\")\r\n",
        "    print(\"■■■■■■■■■■■■■■■\")\r\n",
        "\r\n",
        "if not exec_dict or '2-B' not in exec_dict.keys():\r\n",
        "    print(\"■■■■■■■■■■■■■■■\")\r\n",
        "    print(\"■　** ERROR **\")\r\n",
        "    print(\"■　セル②-Bが実行されていない可能性があります。\")\r\n",
        "    print(\"■　目次から戻って実行してください。\")\r\n",
        "    print(\"■■■■■■■■■■■■■■■\")\r\n",
        "\r\n",
        "if not exec_dict or '3' not in exec_dict.keys():\r\n",
        "    print(\"■■■■■■■■■■■■■■■\")\r\n",
        "    print(\"■　** ERROR **\")\r\n",
        "    print(\"■　セル③が実行されていない可能性があります。\")\r\n",
        "    print(\"■　目次から戻って実行してください。\")\r\n",
        "    print(\"■■■■■■■■■■■■■■■\")\r\n",
        "\r\n",
        "if not exec_dict or '4-A' not in exec_dict.keys():\r\n",
        "    print(\"■■■■■■■■■■■■■■■\")\r\n",
        "    print(\"■　** ERROR **\")\r\n",
        "    print(\"■　セル④-Aが実行されていない可能性があります。\")\r\n",
        "    print(\"■　目次から戻って実行してください。\")\r\n",
        "    print(\"■■■■■■■■■■■■■■■\")\r\n",
        "\r\n",
        "if not exec_dict or '4-B' not in exec_dict.keys():\r\n",
        "    print(\"■■■■■■■■■■■■■■■\")\r\n",
        "    print(\"■　** ERROR **\")\r\n",
        "    print(\"■　セル④-Bが実行されていない可能性があります。\")\r\n",
        "    print(\"■　目次から戻って実行してください。\")\r\n",
        "    print(\"■■■■■■■■■■■■■■■\")\r\n",
        "\r\n",
        "exec_dict['4-C'] = True\r\n",
        "\r\n",
        "! cd expose_mmd/lighttrack/weights/ && sh download_weights.sh\r\n",
        "! cd expose_mmd/data/ && wget http://dlib.net/files/shape_predictor_68_face_landmarks.dat.bz2 && bunzip2 shape_predictor_68_face_landmarks.dat.bz2\r\n",
        "\r\n",
        "print(\"■■■■■■■■■■■■■■■\")\r\n",
        "print(\"■　** OK **\")\r\n",
        "print(\"■　その他のデータ の配置が成功しました。\")\r\n",
        "print(\"■■■■■■■■■■■■■■■\")\r\n",
        "\r\n",
        "play_sound()"
      ],
      "execution_count": null,
      "outputs": []
    },
    {
      "cell_type": "markdown",
      "metadata": {
        "id": "MX_AtRSywDhD"
      },
      "source": [
        "## **⑤　入力映像アップロード**"
      ]
    },
    {
      "cell_type": "markdown",
      "metadata": {
        "id": "7PLrxplXwQJW"
      },
      "source": [
        "処理したい映像ファイルを、準備してください。\r\n",
        "\r\n",
        " - ファイル名は **半角英数字のみ** にしてください。opencvは2バイト文字を読み込めません。\r\n",
        " - Googleドライブの **autotrace** フォルダ 直下に置いてください。\r\n",
        " - **マウント後のGooleドライブ上のファイルの上書きや更新は正しく認識されません。** 新しいファイルは新規の名前でアップロードしてから処理して下さい。\r\n",
        " - `autotrace` フォルダの直下にアップロードしてください。\r\n",
        " - 下のセルを実行して下さい。"
      ]
    },
    {
      "cell_type": "code",
      "metadata": {
        "id": "jcveeryDv6sl",
        "cellView": "form"
      },
      "source": [
        "#@markdown ■■■■■■■■■■■■■■■■■■\r\n",
        "\r\n",
        "#@markdown 【セル⑤】　入力映像ファイルアップロード\r\n",
        "\r\n",
        "#@markdown ■■■■■■■■■■■■■■■■■■\r\n",
        "\r\n",
        "\r\n",
        "#@markdown 解析対象となる映像のファイルの名前を入力して、セルを実行してください。\r\n",
        "\r\n",
        "input_video_name = \"45seconds.mp4\"  #@param {type: \"string\"}\r\n",
        "\r\n",
        "if not exec_dict or '1' not in exec_dict.keys():\r\n",
        "    print(\"■■■■■■■■■■■■■■■\")\r\n",
        "    print(\"■　** ERROR **\")\r\n",
        "    print(\"■　セル①が実行されていない可能性があります。\")\r\n",
        "    print(\"■　目次から戻って実行してください。\")\r\n",
        "    print(\"■■■■■■■■■■■■■■■\")\r\n",
        "\r\n",
        "if not exec_dict or '2-A' not in exec_dict.keys():\r\n",
        "    print(\"■■■■■■■■■■■■■■■\")\r\n",
        "    print(\"■　** ERROR **\")\r\n",
        "    print(\"■　セル②-Aが実行されていない可能性があります。\")\r\n",
        "    print(\"■　目次から戻って実行してください。\")\r\n",
        "    print(\"■■■■■■■■■■■■■■■\")\r\n",
        "\r\n",
        "if not exec_dict or '2-B' not in exec_dict.keys():\r\n",
        "    print(\"■■■■■■■■■■■■■■■\")\r\n",
        "    print(\"■　** ERROR **\")\r\n",
        "    print(\"■　セル②-Bが実行されていない可能性があります。\")\r\n",
        "    print(\"■　目次から戻って実行してください。\")\r\n",
        "    print(\"■■■■■■■■■■■■■■■\")\r\n",
        "\r\n",
        "if not exec_dict or '3' not in exec_dict.keys():\r\n",
        "    print(\"■■■■■■■■■■■■■■■\")\r\n",
        "    print(\"■　** ERROR **\")\r\n",
        "    print(\"■　セル③が実行されていない可能性があります。\")\r\n",
        "    print(\"■　目次から戻って実行してください。\")\r\n",
        "    print(\"■■■■■■■■■■■■■■■\")\r\n",
        "\r\n",
        "if not exec_dict or '4-A' not in exec_dict.keys():\r\n",
        "    print(\"■■■■■■■■■■■■■■■\")\r\n",
        "    print(\"■　** ERROR **\")\r\n",
        "    print(\"■　セル④-Aが実行されていない可能性があります。\")\r\n",
        "    print(\"■　目次から戻って実行してください。\")\r\n",
        "    print(\"■■■■■■■■■■■■■■■\")\r\n",
        "\r\n",
        "if not exec_dict or '4-B' not in exec_dict.keys():\r\n",
        "    print(\"■■■■■■■■■■■■■■■\")\r\n",
        "    print(\"■　** ERROR **\")\r\n",
        "    print(\"■　セル④-Bが実行されていない可能性があります。\")\r\n",
        "    print(\"■　目次から戻って実行してください。\")\r\n",
        "    print(\"■■■■■■■■■■■■■■■\")\r\n",
        "\r\n",
        "if not exec_dict or '4-C' not in exec_dict.keys():\r\n",
        "    print(\"■■■■■■■■■■■■■■■\")\r\n",
        "    print(\"■　** ERROR **\")\r\n",
        "    print(\"■　セル④-Cが実行されていない可能性があります。\")\r\n",
        "    print(\"■　目次から戻って実行してください。\")\r\n",
        "    print(\"■■■■■■■■■■■■■■■\")\r\n",
        "\r\n",
        "exec_dict['5'] = True\r\n",
        "\r\n",
        "input_video_path = f\"{base_path}/{input_video_name}\"\r\n",
        "\r\n",
        "if not os.path.exists(input_video_path):\r\n",
        "    print(\"■■■■■■■■■■■■■■■\")\r\n",
        "    print(\"■　** ERROR **\")\r\n",
        "    print(\"■　autotrace 直下に 指定動画 が見つかりませんでした。\")\r\n",
        "    print(\"■　ファイルパス: \" + input_video_path)\r\n",
        "    print(\"■■■■■■■■■■■■■■■\")\r\n",
        "else:\r\n",
        "    ! cp \"$input_video_path\" .\r\n",
        "\r\n",
        "    input_video_path = f\"/content/{input_video_name}\"\r\n",
        "\r\n",
        "    print(\"■■■■■■■■■■■■■■■\")\r\n",
        "    print(\"■　** OK **\")\r\n",
        "    print(\"■　入力動画 の設定が完了しました。\")\r\n",
        "    print(\"■　ファイルパス: \" + input_video_path)\r\n",
        "    print(\"■■■■■■■■■■■■■■■\")\r\n",
        "\r\n",
        "play_sound()"
      ],
      "execution_count": null,
      "outputs": []
    },
    {
      "cell_type": "markdown",
      "metadata": {
        "id": "KoprSvp4xuXu"
      },
      "source": [
        "## **⑥　MMD自動トレース実行**"
      ]
    },
    {
      "cell_type": "markdown",
      "metadata": {
        "id": "0g0Disv6xsmp"
      },
      "source": [
        "MMD自動トレースは人物推定・追跡指定・モーション出力に分けて実行していただきます。\r\n",
        "\r\n",
        "下のセルを実行してください。\r\n",
        "\r\n",
        "※下記メッセージが出てきたら、1回目は無視して大丈夫です。\r\n",
        "\r\n",
        "2回目が出てきたら、入力映像をキリのいいところで区切って分けて処理してください。\r\n",
        "\r\n",
        "![容量オーバー](https://drive.google.com/uc?export=view&id=1EKt3nCK6ZYjgkNoflQNzSnW_0s4WnJYO)\r\n",
        "\r\n",
        "\r\n"
      ]
    },
    {
      "cell_type": "markdown",
      "metadata": {
        "id": "XcPBwOqB4ULh"
      },
      "source": [
        "### ⑥-A　人物推定"
      ]
    },
    {
      "cell_type": "code",
      "metadata": {
        "id": "2EAjUCpyyLMq",
        "cellView": "form"
      },
      "source": [
        "#@markdown ■■■■■■■■■■■■■■■■■■\r\n",
        "\r\n",
        "#@markdown 【セル⑥-A】　人物推定\r\n",
        "\r\n",
        "#@markdown ■■■■■■■■■■■■■■■■■■\r\n",
        "\r\n",
        "if not exec_dict or '1' not in exec_dict.keys():\r\n",
        "    print(\"■■■■■■■■■■■■■■■\")\r\n",
        "    print(\"■　** ERROR **\")\r\n",
        "    print(\"■　セル①が実行されていない可能性があります。\")\r\n",
        "    print(\"■　目次から戻って実行してください。\")\r\n",
        "    print(\"■■■■■■■■■■■■■■■\")\r\n",
        "\r\n",
        "if not exec_dict or '2-A' not in exec_dict.keys():\r\n",
        "    print(\"■■■■■■■■■■■■■■■\")\r\n",
        "    print(\"■　** ERROR **\")\r\n",
        "    print(\"■　セル②-Aが実行されていない可能性があります。\")\r\n",
        "    print(\"■　目次から戻って実行してください。\")\r\n",
        "    print(\"■■■■■■■■■■■■■■■\")\r\n",
        "\r\n",
        "if not exec_dict or '2-B' not in exec_dict.keys():\r\n",
        "    print(\"■■■■■■■■■■■■■■■\")\r\n",
        "    print(\"■　** ERROR **\")\r\n",
        "    print(\"■　セル②-Bが実行されていない可能性があります。\")\r\n",
        "    print(\"■　目次から戻って実行してください。\")\r\n",
        "    print(\"■■■■■■■■■■■■■■■\")\r\n",
        "\r\n",
        "if not exec_dict or '3' not in exec_dict.keys():\r\n",
        "    print(\"■■■■■■■■■■■■■■■\")\r\n",
        "    print(\"■　** ERROR **\")\r\n",
        "    print(\"■　セル③が実行されていない可能性があります。\")\r\n",
        "    print(\"■　目次から戻って実行してください。\")\r\n",
        "    print(\"■■■■■■■■■■■■■■■\")\r\n",
        "\r\n",
        "if not exec_dict or '4-A' not in exec_dict.keys():\r\n",
        "    print(\"■■■■■■■■■■■■■■■\")\r\n",
        "    print(\"■　** ERROR **\")\r\n",
        "    print(\"■　セル④-Aが実行されていない可能性があります。\")\r\n",
        "    print(\"■　目次から戻って実行してください。\")\r\n",
        "    print(\"■■■■■■■■■■■■■■■\")\r\n",
        "\r\n",
        "if not exec_dict or '4-B' not in exec_dict.keys():\r\n",
        "    print(\"■■■■■■■■■■■■■■■\")\r\n",
        "    print(\"■　** ERROR **\")\r\n",
        "    print(\"■　セル④-Bが実行されていない可能性があります。\")\r\n",
        "    print(\"■　目次から戻って実行してください。\")\r\n",
        "    print(\"■■■■■■■■■■■■■■■\")\r\n",
        "\r\n",
        "if not exec_dict or '4-C' not in exec_dict.keys():\r\n",
        "    print(\"■■■■■■■■■■■■■■■\")\r\n",
        "    print(\"■　** ERROR **\")\r\n",
        "    print(\"■　セル④-Cが実行されていない可能性があります。\")\r\n",
        "    print(\"■　目次から戻って実行してください。\")\r\n",
        "    print(\"■■■■■■■■■■■■■■■\")\r\n",
        "\r\n",
        "if not exec_dict or '5' not in exec_dict.keys():\r\n",
        "    print(\"■■■■■■■■■■■■■■■\")\r\n",
        "    print(\"■　** ERROR **\")\r\n",
        "    print(\"■　セル⑤が実行されていない可能性があります。\")\r\n",
        "    print(\"■　目次から戻って実行してください。\")\r\n",
        "    print(\"■■■■■■■■■■■■■■■\")\r\n",
        "\r\n",
        "exec_dict['6-A'] = True\r\n",
        "\r\n",
        "! rm -r '/content/output'\r\n",
        "\r\n",
        "import datetime\r\n",
        "process_img_dir_name = \"{0}_{1:%Y%m%d_%H%M%S}\".format(os.path.basename(input_video_path).replace('.', '_'), datetime.datetime.now())\r\n",
        "process_img_dir_path = os.path.join('/content/output', process_img_dir_name)\r\n",
        "os.makedirs(process_img_dir_path, exist_ok=True)\r\n",
        "\r\n",
        "! cd expose_mmd/ && python executor.py --video-file \"$input_video_path\" --parent-dir \"$process_img_dir_path\" --process prepare,expose,tracking --verbose 20 --log-mode 0\r\n",
        "\r\n",
        "! rm './out.webm'\r\n",
        "\r\n",
        "# mp4に変換\r\n",
        "bbox_file_path = f\"{process_img_dir_path}/bbox.mp4\"\r\n",
        "\r\n",
        "!ffmpeg -i \"$bbox_file_path\" -vcodec vp9 ./out.webm\r\n",
        "\r\n",
        "play_sound()"
      ],
      "execution_count": null,
      "outputs": []
    },
    {
      "cell_type": "markdown",
      "metadata": {
        "id": "xZ9PIgPIGtbZ"
      },
      "source": [
        "⑥-Aで準備した結果を、以下の観点で確認します。\r\n",
        "\r\n",
        " - 人物であろうと認識された箇所に枠が入ります。\r\n",
        " - 一人の人物を追いかける枠の左上にあるINDEXを確認してください。\r\n",
        " - 現在のフレーム番号は左上に表示しています。\r\n",
        " - 綺麗に人物が取れていないところは、枠が取れていても除外した方が綺麗になります。\r\n",
        " - 指定方法\r\n",
        "   - INDEXを最初から最後まで取り入れる場合：[INDEX番号]\r\n",
        "   - INDEXを最初から途中まで取り入れる場合：[INDEX番号]:-[終了フレーム]\r\n",
        "   - INDEXを途中から最後まで取り入れる場合：[INDEX番号]:[開始フレーム]-\r\n",
        "   - INDEXを途中から途中まで取り入れる場合：[INDEX番号]:[開始フレーム]-[終了フレーム]\r\n",
        "\r\n",
        "INDEX指定例\r\n",
        "\r\n",
        " ```\r\n",
        "0,44:263-,94,126,145,148,159,161:-3858,182,244,246\r\n",
        "1,123,157,163:3572-,170,180,208:4427-,213,239:5580-\r\n",
        "2,44:-261,49,61,64,71,95,135,139,146,156,188,197,205,215,247\r\n",
        " ```\r\n",
        "\r\n",
        " 下のセルを実行してください。"
      ]
    },
    {
      "cell_type": "markdown",
      "metadata": {
        "id": "uToXQits4asb"
      },
      "source": [
        "### ⑥-B　人物推定結果確認"
      ]
    },
    {
      "cell_type": "code",
      "metadata": {
        "id": "7lzNX_akFF-r",
        "cellView": "form"
      },
      "source": [
        "#@markdown ■■■■■■■■■■■■■■■■■■\r\n",
        "\r\n",
        "#@markdown 【セル⑥-B】　人物推定結果確認\r\n",
        "\r\n",
        "#@markdown ■■■■■■■■■■■■■■■■■■\r\n",
        "\r\n",
        "from IPython.display import HTML\r\n",
        "import base64\r\n",
        "import io\r\n",
        "\r\n",
        "def play_video(bbox_file_path):\r\n",
        "    video = io.open(bbox_file_path, 'r+b').read()\r\n",
        "    encoded = base64.b64encode(video)\r\n",
        "    return(HTML(data='''<video width=\"1280\" height=\"720\" controls><source src=\"data:video/mp4;base64,{0}\" type=\"video/mp4\" /></video>'''.format(encoded.decode('ascii'))))\r\n",
        "\r\n",
        "play_video('./out.webm')"
      ],
      "execution_count": null,
      "outputs": []
    },
    {
      "cell_type": "markdown",
      "metadata": {
        "id": "o1yUMzZp4fYq"
      },
      "source": [
        "### ⑥-C　人物追跡指定"
      ]
    },
    {
      "cell_type": "code",
      "metadata": {
        "id": "ydpLN3F0Gk7Z",
        "cellView": "form"
      },
      "source": [
        "#@markdown ■■■■■■■■■■■■■■■■■■\r\n",
        "\r\n",
        "#@markdown 【セル⑥-C】　人物追跡指定\r\n",
        "\r\n",
        "#@markdown ■■■■■■■■■■■■■■■■■■\r\n",
        "\r\n",
        "#@markdown 人物がひとりずつ動画の最後まで繋がるように、INDEXを指定して下さい。\r\n",
        "\r\n",
        "#@markdown 指定が終わったら、セルを実行してください。このセルは繰り返し実行できます。\r\n",
        "\r\n",
        "order_1 = \"16,92,114,308,355\"  #@param {type: \"string\"}\r\n",
        "\r\n",
        "order_2 = \"18,179,210,238,312\"  #@param {type: \"string\"}\r\n",
        "\r\n",
        "order_3 = \"\"  #@param {type: \"string\"}\r\n",
        "\r\n",
        "order_4 = \"\"  #@param {type: \"string\"}\r\n",
        "\r\n",
        "order_5 = \"\"  #@param {type: \"string\"}\r\n",
        "\r\n",
        "order_6 = \"\"  #@param {type: \"string\"}\r\n",
        "\r\n",
        "order_7 = \"\"  #@param {type: \"string\"}\r\n",
        "\r\n",
        "order_8 = \"\"  #@param {type: \"string\"}\r\n",
        "\r\n",
        "order_9 = \"\"  #@param {type: \"string\"}\r\n",
        "\r\n",
        "order_data = [order_1, order_2, order_3, order_4, order_5, order_6, order_7, order_8, order_9]\r\n",
        "order_file_path = f'{process_img_dir_path}/order.csv'\r\n",
        "\r\n",
        "with open(order_file_path, 'w') as f:\r\n",
        "    for order in order_data:\r\n",
        "        f.write(order)\r\n",
        "        f.write(\"\\n\")\r\n",
        "\r\n",
        "print(\"■■■■■■■■■■■■■■■\")\r\n",
        "print(\"■　** OK **\")\r\n",
        "print(\"■　人物INDEXの指定が成功しました。\")\r\n",
        "print(\"■　ファイルパス: \" + order_file_path)\r\n",
        "print(\"■■■■■■■■■■■■■■■\")\r\n",
        "\r\n",
        "play_sound()"
      ],
      "execution_count": null,
      "outputs": []
    },
    {
      "cell_type": "markdown",
      "metadata": {
        "id": "fxxGD35U0OkC"
      },
      "source": [
        "### ⑥-D　追跡指定実行"
      ]
    },
    {
      "cell_type": "code",
      "metadata": {
        "cellView": "form",
        "id": "zt1_MhU50X3J"
      },
      "source": [
        "#@markdown ■■■■■■■■■■■■■■■■■■\r\n",
        "\r\n",
        "#@markdown 【セル⑥-D】　追跡指定実行\r\n",
        "\r\n",
        "#@markdown ■■■■■■■■■■■■■■■■■■\r\n",
        "\r\n",
        "#@markdown 先ほど指定したINDEXで人物追跡を実行します。。\r\n",
        "\r\n",
        "#@markdown このセルを実行してください。このセルは繰り返し実行できます。\r\n",
        "\r\n",
        "! cd expose_mmd/ && python executor.py --img-dir \"$process_img_dir_path\" --order-file \"$order_file_path\" --process order --verbose 20 --log-mode 0\r\n",
        "\r\n",
        "# mp4に変換\r\n",
        "ordered_file_path = f\"{process_img_dir_path}/ordered_bbox.avi\"\r\n",
        "\r\n",
        "! rm './out2.webm'\r\n",
        "\r\n",
        "!ffmpeg -i \"$ordered_file_path\" -vcodec vp9 ./out2.webm\r\n",
        "\r\n",
        "play_sound()"
      ],
      "execution_count": null,
      "outputs": []
    },
    {
      "cell_type": "markdown",
      "metadata": {
        "id": "fF-DJps63lr8"
      },
      "source": [
        "### ⑥-E　追跡指定確認"
      ]
    },
    {
      "cell_type": "code",
      "metadata": {
        "cellView": "form",
        "id": "Riv5Hvmm3RTh"
      },
      "source": [
        "#@markdown ■■■■■■■■■■■■■■■■■■\r\n",
        "\r\n",
        "#@markdown 【セル⑥-E】　追跡指定確認\r\n",
        "\r\n",
        "#@markdown ■■■■■■■■■■■■■■■■■■\r\n",
        "\r\n",
        "#@markdown 意図した通りに人物を追跡出来ているか確認します。\r\n",
        "\r\n",
        "#@markdown このセルを実行してください。\r\n",
        "\r\n",
        "#@markdown 想定通りではなかった場合、⑥-Cに戻ってINDEXを指定し直してください。\r\n",
        "\r\n",
        "from IPython.display import HTML\r\n",
        "import base64\r\n",
        "import io\r\n",
        "\r\n",
        "def play_video(bbox_file_path):\r\n",
        "    video = io.open(bbox_file_path, 'r+b').read()\r\n",
        "    encoded = base64.b64encode(video)\r\n",
        "    return(HTML(data='''<video width=\"640\" height=\"360\" controls><source src=\"data:video/mp4;base64,{0}\" type=\"video/mp4\" /></video>'''.format(encoded.decode('ascii'))))\r\n",
        "\r\n",
        "play_video('./out2.webm')"
      ],
      "execution_count": null,
      "outputs": []
    },
    {
      "cell_type": "markdown",
      "metadata": {
        "id": "NizDhi8h4nG3"
      },
      "source": [
        "### ⑥-F　モーション出力"
      ]
    },
    {
      "cell_type": "code",
      "metadata": {
        "id": "10ssIxUAMUl8",
        "cellView": "form"
      },
      "source": [
        "#@markdown ■■■■■■■■■■■■■■■■■■\r\n",
        "\r\n",
        "#@markdown 【セル⑥-F】　モーション出力\r\n",
        "\r\n",
        "#@markdown ■■■■■■■■■■■■■■■■■■\r\n",
        "\r\n",
        "#@markdown 実行したい任意機能にチェックを入れてください。\r\n",
        "\r\n",
        "#@markdown このセルは繰り返し実行できます。\r\n",
        "\r\n",
        "#@markdown **表情認識**　（かなり時間がかかります）\r\n",
        "\r\n",
        "process_face = False #@param {type:\"boolean\"}\r\n",
        "\r\n",
        "#@markdown **身体モーション出力**　（表情のみを出力したい場合などはOFFにしてください）\r\n",
        "\r\n",
        "process_motion_body = True #@param {type:\"boolean\"}\r\n",
        "\r\n",
        "#@markdown **上半身のみのモーション出力**　（センターYを出力しません）\r\n",
        "\r\n",
        "process_motion_upper = False #@param {type:\"boolean\"}\r\n",
        "\r\n",
        "#@markdown **手モーション出力**　（やや時間がかかります）\r\n",
        "\r\n",
        "process_motion_hand = False #@param {type:\"boolean\"}\r\n",
        "\r\n",
        "#@markdown **顔モーション出力**　（やや時間がかかります）\r\n",
        "\r\n",
        "process_motion_face = False #@param {type:\"boolean\"}\r\n",
        "\r\n",
        "#@markdown チェックできたら、このセルを実行してください。\r\n",
        "\r\n",
        "#@markdown Googleドライブの `autotrace`フォルダの下に「`<動画ファイル名>_<実行年月日>_<実行時分秒（米国時間））>`」のフォルダの下に、VMDファイルとAVIファイルを出力しているので、それをダウンロードしてください。\r\n",
        "\r\n",
        "process_txt = \"smooth,motion\"\r\n",
        "if process_face:\r\n",
        "    process_txt = \"face,smooth,motion\"\r\n",
        "\r\n",
        "motion_body_flg = \"1\" if process_motion_body else \"0\"\r\n",
        "motion_hand_flg = \"1\" if process_motion_hand else \"0\"\r\n",
        "motion_face_flg = \"1\" if process_motion_face else \"0\"\r\n",
        "motion_upper_flg = \"1\" if process_motion_upper else \"0\"\r\n",
        "\r\n",
        "! cd expose_mmd/ && python executor.py --img-dir \"$process_img_dir_path\" --order-file \"$order_file_path\" --process $process_txt --body-motion $motion_body_flg --hand-motion $motion_hand_flg --face-motion $motion_face_flg --upper-motion $motion_upper_flg --verbose 20 --log-mode 0\r\n",
        "\r\n",
        "import shutil\r\n",
        "\r\n",
        "# 日本語対策でpythonコピー\r\n",
        "output_name = os.path.basename(input_video_name).replace('.', '_')\r\n",
        "output_path = os.path.join(base_path, process_img_dir_name)\r\n",
        "\r\n",
        "if not os.path.exists(output_path):\r\n",
        "    shutil.copytree(f'{process_img_dir_path}/motion', output_path)\r\n",
        "else:\r\n",
        "    import glob\r\n",
        "    for vmd_path in glob.glob(os.path.join(process_img_dir_path, \"motion\", \"*.vmd\")):\r\n",
        "        out_vmd_path = os.path.join(output_path, os.path.basename(vmd_path))\r\n",
        "        shutil.copy(vmd_path, out_vmd_path)\r\n",
        "\r\n",
        "shutil.copy(f'{process_img_dir_path}/ordered_bbox.avi', output_path)\r\n",
        "\r\n",
        "print(\"■■■■■■■■■■■■■■■\")\r\n",
        "print(\"■　** OK **\")\r\n",
        "print(\"■　モーションの出力が成功しました。\")\r\n",
        "print(\"■　ファイルパス: \" + output_path)\r\n",
        "print(\"■■■■■■■■■■■■■■■\")\r\n",
        "\r\n",
        "play_sound()\r\n"
      ],
      "execution_count": null,
      "outputs": []
    },
    {
      "cell_type": "markdown",
      "metadata": {
        "id": "LnAUBEOeHoPe"
      },
      "source": [
        "# 自動トレース後の作業"
      ]
    },
    {
      "cell_type": "markdown",
      "metadata": {
        "id": "Vu4_v1zqH2gM"
      },
      "source": [
        "## ①　GoogleドライブにVMDが出力されない場合"
      ]
    },
    {
      "cell_type": "markdown",
      "metadata": {
        "id": "0BFA_3plH8Y7"
      },
      "source": [
        " - **ERROR**　**CRITICAL**　というメッセージが出ていないか確認してください。\r\n",
        " - メッセージが出ていない場合、処理出力フォルダにVMDファイルが出力されているか確認してください。\r\n",
        "   1. 画面左のフォルダーボタンをクリックしてください。\r\n",
        "\r\n",
        " ![フォルダーボタン](https://drive.google.com/uc?export=view&id=1AoTQjFHaz2uY4jGJttmVRkWk2nct2kb3)\r\n",
        "\r\n",
        "   2. `output/<動画ファイル名>_<実行年月日>_<実行時分秒>/motion` フォルダの下にファイルが出来ているか確認してください。\r\n",
        "\r\n",
        " ![motionフォルダ](https://drive.google.com/uc?export=view&id=1wJsomaHWFwSyt6lmt7Zuli8AJ-cxi3uX)\r\n",
        "\r\n",
        "     - VMDファイルがある場合、それをダウンロードしてください。\r\n",
        "     - VMDファイルがない場合、どこかでエラーが発生しています。\r\n",
        "     - エラーの原因が分からない場合は、ノートブックを共有してください。\r\n",
        "       - 共有方法は、「[準備編](https://colab.research.google.com/github/miu200521358/motion_trace_colab/blob/master/AutoTraceIntroduction.ipynb)」を確認してください。\r\n"
      ]
    },
    {
      "cell_type": "markdown",
      "metadata": {
        "id": "qxwONV2ULFc_"
      },
      "source": [
        "## ② 　関節位置データが欲しい場合"
      ]
    },
    {
      "cell_type": "markdown",
      "metadata": {
        "id": "vDutzsxhGKcy"
      },
      "source": [
        "関節位置データ（姿勢推定・人物追跡・表情認識の結果データ）が必要な場合、下のセルを実行すると、Googleドライブに該当データがコピーされるので、それをダウンロードしてください。"
      ]
    },
    {
      "cell_type": "code",
      "metadata": {
        "cellView": "form",
        "id": "B4GLtUJIGMNu"
      },
      "source": [
        "#@markdown ■■■■■■■■■■■■■■■■■■\r\n",
        "\r\n",
        "#@markdown 生データが欲しい場合、このセルを実行してください。\r\n",
        "\r\n",
        "#@markdown ■■■■■■■■■■■■■■■■■■\r\n",
        "\r\n",
        "json_path = os.path.join(output_path, 'ordered')\r\n",
        "\r\n",
        "import shutil\r\n",
        "shutil.copytree(f'{process_img_dir_path}/ordered', json_path)\r\n",
        "\r\n",
        "print(\"■■■■■■■■■■■■■■■\")\r\n",
        "print(\"■　** OK **\")\r\n",
        "print(\"■　生データのGoogleドライブへのコピーが完了しました。\")\r\n",
        "print(\"■　フォルダパス: \" + json_path)\r\n",
        "print(\"■■■■■■■■■■■■■■■\")\r\n",
        "\r\n",
        "play_sound()\r\n"
      ],
      "execution_count": null,
      "outputs": []
    },
    {
      "cell_type": "code",
      "metadata": {
        "cellView": "form",
        "id": "2uIu8L07HMMz"
      },
      "source": [
        "#@markdown ■■■■■■■■■■■■■■■■■■\r\n",
        "\r\n",
        "#@markdown スムージング後データが欲しい場合、このセルを実行してください。\r\n",
        "\r\n",
        "#@markdown ■■■■■■■■■■■■■■■■■■\r\n",
        "\r\n",
        "json_path = os.path.join(output_path, 'smooth')\r\n",
        "\r\n",
        "import shutil\r\n",
        "shutil.copytree(f'{process_img_dir_path}/smooth', json_path)\r\n",
        "\r\n",
        "print(\"■■■■■■■■■■■■■■■\")\r\n",
        "print(\"■　** OK **\")\r\n",
        "print(\"■　スムージング後データのGoogleドライブへのコピーが完了しました。\")\r\n",
        "print(\"■　フォルダパス: \" + json_path)\r\n",
        "print(\"■■■■■■■■■■■■■■■\")\r\n",
        "\r\n",
        "play_sound()\r\n"
      ],
      "execution_count": null,
      "outputs": []
    },
    {
      "cell_type": "markdown",
      "metadata": {
        "id": "o5BxR5tGM2k-"
      },
      "source": [
        "## ③　全打ちデータから、不要キーを除きたい場合\r\n",
        "\r\n",
        "[モーションサポーター](https://seiga.nicovideo.jp/seiga/im10581987) の「スムージング」を使用してください。\r\n",
        "\r\n",
        "**オススメ設定**\r\n",
        "\r\n",
        " 1. 「処理対象：センターとグルーブ」「処理回数：10」「補間方法：補間曲線に従う」でスムージング\r\n",
        " 2. 「処理対象：全ボーン・フレーム」「処理回数：3」「補間方法：補間曲線に従う」でスムージング\r\n"
      ]
    },
    {
      "cell_type": "markdown",
      "metadata": {
        "id": "O1U9nW7Fl6Bv"
      },
      "source": [
        "## ④　奥行きを付けたい場合\r\n",
        "\r\n",
        "全親で大体の奥行き（必要であればセンター位置の補正も）を入力した後、[モーションサポーター](https://seiga.nicovideo.jp/seiga/im10581987) の「全親移植」を使用してください。"
      ]
    },
    {
      "cell_type": "markdown",
      "metadata": {
        "id": "K-SMqIYJMa2p"
      },
      "source": [
        "## ⑤　あにまさミクから他のモデルに合わせたモーションデータに変換したい場合\r\n",
        "\r\n",
        "[VMDサイジング](https://seiga.nicovideo.jp/seiga/im9755721) を使用してください。\r\n",
        "\r\n",
        "**オススメ設定**\r\n",
        "\r\n",
        "1. 「元モデル：あにまさ式ミク準標準」「スタンス追加補正：ON」「捩り分散：ON」でお好きなモデルに合わせてサイジング\r\n",
        "\r\n",
        "**オススメの作業順番**\r\n",
        "\r\n",
        "1. スムージング③（あにまさミク）\r\n",
        "2. 全親移植④（あにまさミク）\r\n",
        "3. サイジング⑤（任意のモデル）\r\n",
        "4. モーション修正（任意のモデル）\r\n"
      ]
    },
    {
      "cell_type": "markdown",
      "metadata": {
        "id": "9nm28k-hcifr"
      },
      "source": [
        "## ⑥　最初からやり直したい場合\r\n",
        "\r\n",
        "1. メニューの「ランタイム」＞「ランタイムを出荷状態にリセット」＞「はい」をクリックしてください。\r\n",
        "\r\n",
        " ![リセット](https://drive.google.com/uc?export=view&id=1Eyi6OLpndFo63tyJsMtukIiL9p4wqBJs)\r\n",
        "\r\n",
        "2. メニュー→の「再接続」をクリックしてください。\r\n",
        "\r\n",
        " ![再接続](https://drive.google.com/uc?export=view&id=1h7jF222tU4ZQz_jIMeDKYb9CNIbHTN1k)\r\n",
        "\r\n",
        "3. 緑のチェックマークがついたらリセット完了です。\r\n",
        "\r\n",
        " ![リセット完了](https://drive.google.com/uc?export=view&id=1FXq971EddklGtHMHpm_vQM0MtRvQrJ-y)\r\n"
      ]
    },
    {
      "cell_type": "markdown",
      "metadata": {
        "id": "kbsMHQ7QM8zm"
      },
      "source": [
        "# ライセンス・クレジット"
      ]
    },
    {
      "cell_type": "markdown",
      "metadata": {
        "id": "KV5FmXRDdKwN"
      },
      "source": [
        "MMD自動トレースの結果を公開・配布する場合は、必ずライセンスのご確認をお願い致します。Unity等他への適用の場合も同様です。\r\n",
        "\r\n",
        "ライセンスを記載いただけたらとても有難いです。\r\n",
        "\r\n",
        "[MMD自動トレースv2 ライセンス・クレジット](https://ch.nicovideo.jp/miu200521358/blomaga/ar1974413)"
      ]
    }
  ]
}