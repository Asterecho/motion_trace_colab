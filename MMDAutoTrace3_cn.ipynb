{
  "nbformat": 4,
  "nbformat_minor": 0,
  "metadata": {
    "colab": {
      "name": "MMDAutoTrace3.00.00.ipynb",
      "provenance": [],
      "collapsed_sections": [],
      "toc_visible": true
    },
    "kernelspec": {
      "name": "python3",
      "display_name": "Python 3"
    },
    "language_info": {
      "name": "python"
    },
    "accelerator": "GPU"
  },
  "cells": [
    {
      "cell_type": "markdown",
      "source": [
        "# Colab��MMD�Ԅӥȥ�`��v3�ؤ褦������(�g�о�)"
      ],
      "metadata": {
        "id": "Fyy5ukQ1Snmq"
      }
    },
    {
      "cell_type": "markdown",
      "source": [
        "# ʼ���\n",
        "\n",
        "���Υĩ`��μڃP״�r����ƥʥ�����Twitter��[@miu200521358](https://twitter.com/miu200521358)���ˤ��ФäƤ��ޤ���\n",
        "\n",
        "����`�ˤʤ롢���Ӥ��ʤ����ʤɤΈ��ϡ��ޤ��ϬF�ڤ��䲼״�r�򤴴_�J����������\n",
        "\n",
        "��פ�DM�ȤǤΤ������Ϥ碌���ܤ������Ƥ��ޤ���"
      ],
      "metadata": {
        "id": "x0Du9XXeSsPi"
      }
    },
    {
      "cell_type": "markdown",
      "source": [
        "# Ŀ��\n",
        "\n",
        "���ΥΩ`�ȥ֥å��Ǥϡ�MMD�Ԅӥȥ�`���Μʂ�Ȍg�Ф��Ф��ޤ���\n",
        "\n",
        "�Ω`�ȥ֥å���ʹ�����ˤϥ���������Τǡ���[�ʂ侎](https://colab.research.google.com/github/miu200521358/motion_trace_colab/blob/master/AutoTraceIntroduction.ipynb)����ʹ�����ˑT��Ƥ���������\n",
        "\n",
        "�������ϤΡ��������g�H�����������򥯥�å������¤�����Ŀ�Τ��_���ޤ������Ȥ��_���Ƥ�����ϤϴΤ��M��Ǥ���������\n",
        "\n",
        "![Ŀ��](https://drive.google.com/uc?export=view&id=1HGk4sJmcPtMbMwcJOvE3aU1GjvKinwA_)\n",
        "\n",
        "Google�ɥ饤�֤�ֱ�¤�`autotrace`�ե���������ɤ��Ƥ���������\n",
        "\n",
        "���ʂ侎�ǼȤ������Ƥ�����Ϥ������ɲ�Ҫ�Ǥ���\n",
        "\n",
        "�Ω`�ȥ֥å����Ϥ���혤˴_�J����������혤�ҤȤĤ��Čg�Ф��Ƥ���������\n",
        "\n",
        "�g�Ф���Ҫ�ʥ���ˤϷ��Ť���äƤ���ޤ����٤���혷��ˌg�Ф��Ƥ���������\n",
        "\n",
        "- **���١��h�����B��**\n",
        "  - MMD�Ԅӥȥ�`��v3 �äέh���򘋺B���ޤ���\n",
        "- **���ڡ�MMD�Ԅӥȥ�`��v3 �g�С�**\n",
        "    - MMD�Ԅӥȥ�`��v3 ��g�Ф��ޤ���\n"
      ],
      "metadata": {
        "id": "CoaXwL-ASx6q"
      }
    },
    {
      "cell_type": "markdown",
      "source": [
        "# �𤳤�����ԤΤ��륨��`?����Ȍ��I����"
      ],
      "metadata": {
        "id": "f-XzbSo-TgtU"
      }
    },
    {
      "cell_type": "markdown",
      "source": [
        "## GPU����ͻ��"
      ],
      "metadata": {
        "id": "aEQ4dKwATlsr"
      }
    },
    {
      "cell_type": "markdown",
      "source": [
        "��ӛ�Τ褦�ʥ���`���������ϡ�GPU��ʹ�������ޤ��_���ޤ�����\n",
        "\n",
        "�o����Έ��ϡ�24�r�g���ϴ��äƤ����������ٶ����äǤ���褦�ˤʤ�ޤ���\n",
        "\n",
        "![����](https://drive.google.com/uc?export=view&id=1xxg5yM-wgNkAr1FboAM8DS2K-aqmtw5d)\n"
      ],
      "metadata": {
        "id": "Ma1e14jVToVi"
      }
    },
    {
      "cell_type": "markdown",
      "source": [
        "## �h���Υ���å���"
      ],
      "metadata": {
        "id": "NrT6jPFBTq_x"
      }
    },
    {
      "cell_type": "markdown",
      "source": [
        "��ӛ�Τ褦�ʥ���`���������ϡ��h��������å��夷�ޤ�����\n",
        "\n",
        "���å�����һ���������ơ��h��������ֱ���Ƥ�������\n",
        "\n",
        "![����å���](https://drive.google.com/uc?export=view&id=1qMoxfUggI_jDjrDifj7UgOrSmsEOMmHY)\n",
        "\n",
        "![����å���](https://drive.google.com/uc?export=view&id=1WFHmCzEkCLi8XnHyl7goicNQPL67RHhX)\n",
        "\n",
        "![����](https://drive.google.com/uc?export=view&id=12UaonO4UvI_HCnJI95od15_yagVIVsRD)\n",
        "\n",
        "![����](https://drive.google.com/uc?export=view&id=1smRW97KjP8fqSy3E5dtfWJHpyBtEMKca)\n"
      ],
      "metadata": {
        "id": "TYONV48qTtSf"
      }
    },
    {
      "cell_type": "markdown",
      "source": [
        "## �h�����Ԅ�����"
      ],
      "metadata": {
        "id": "n0N0LWYnTw0k"
      }
    },
    {
      "cell_type": "markdown",
      "source": [
        "��ӛ�Τ褦�ʥ���`���������ϡ��r�g�U�^����ӛ����å���ʤɤˤ��Colab����h�����Ȥ��Ɨ�����Ƥ��ޤ���\n",
        "\n",
        "���å�����һ���������ơ��h��������ֱ���Ƥ�������\n",
        "\n",
        "![Google�ɥ饤���BЯ](https://drive.google.com/uc?export=view&id=1Oa5SNwStqzR6qVMEzxg8PdLmO3FTpr1l)\n"
      ],
      "metadata": {
        "id": "ywNefafZTyy8"
      }
    },
    {
      "cell_type": "markdown",
      "source": [
        "## GPUδʹ�þ���"
      ],
      "metadata": {
        "id": "P-eZr-2ST1bk"
      }
    },
    {
      "cell_type": "markdown",
      "source": [
        "���I�Ф���ӛ�Τ褦�ʾ��椬���뤳�Ȥ�����ޤ��������Τޤ��M��Ƥ��������Ɔ��}����ޤ���\n",
        "\n",
        "����GPU��ʹ���Τ�AI��g�Ф���w�������Ǥ��Τǡ��������Υ�������I�Ф˳�������Ԥ�����ޤ�����\n",
        "\n",
        "![����](https://drive.google.com/uc?export=view&id=1mRW32urnPQ4LS4xrLEoPdp_XCqlq1HUF)\n"
      ],
      "metadata": {
        "id": "v28ncAfzT3db"
      }
    },
    {
      "cell_type": "markdown",
      "source": [
        "## �ǥ����������о���"
      ],
      "metadata": {
        "id": "uH6cRFVgmfh4"
      }
    },
    {
      "cell_type": "markdown",
      "source": [
        "��ӛ�Τ褦�ʾ��椬���Ƥ����顢1��Ŀ�ϟoҕ���ƴ��ɷ�Ǥ���\n",
        "\n",
        "2��Ŀ�����Ƥ����顢;�Фǥǥ��������ѥ󥯤���֤줬���뤿�ᡢ����ӳ��򥭥�Τ����Ȥ�������ФäƷ֤��ƄI���Ƥ���������"
      ],
      "metadata": {
        "id": "cUxpejEEmlKM"
      }
    },
    {
      "cell_type": "markdown",
      "source": [
        "\n",
        "![�������`�Щ`](https://drive.google.com/uc?export=view&id=1EKt3nCK6ZYjgkNoflQNzSnW_0s4WnJYO)\n",
        "\n"
      ],
      "metadata": {
        "id": "Hae7pvkCmdps"
      }
    },
    {
      "cell_type": "markdown",
      "source": [
        "# ����Ҏ�s"
      ],
      "metadata": {
        "id": "tUNmRfXodyvM"
      }
    },
    {
      "cell_type": "markdown",
      "source": [
        "MMD�Ԅӥȥ�`�������á��ޤ��Ϥ��νY�����_?�䲼������Ϥϡ��ؤ�����Ҏ�s�Τ��_�J����¤��ޤ���\n",
        "\n",
        "JSON�ǩ`�������ä�Unity�ؤ��m�õȡ�MMD����Ǥ�ʹ�äΈ��Ϥ�ͬ���Ǥ���\n",
        "\n",
        "[MMD�Ԅӥȥ�`��v3 ����Ҏ�s](https://github.com/miu200521358/mmd-auto-trace-3/wiki/03.%E5%88%A9%E7%94%A8%E8%A6%8F%E7%B4%84)\n",
        "\n",
        "[MMD�Ԅӥȥ�`��v3 ʹ�ü��g?�饤����](https://github.com/miu200521358/mmd-auto-trace-3/wiki/02.%E4%BD%BF%E7%94%A8%E6%8A%80%E8%A1%93)"
      ],
      "metadata": {
        "id": "UqHhDeUAUA3V"
      }
    },
    {
      "cell_type": "markdown",
      "source": [
        "# �١��h�����B"
      ],
      "metadata": {
        "id": "cGNYDeTFeFWW"
      }
    },
    {
      "cell_type": "markdown",
      "source": [
        "## ��-A��֪ͨ���Υ������`��\n",
        "\n",
        "֪ͨ����[���������](https://soundeffect-lab.info/)�����������`�ɤ��ơ�����Όg�Ф��_ʼ?����?ʧ�������r�������Q��褦�ˤ��ޤ���\n",
        "\n",
        "�¤Ρ���-A���Υ����g�Ф��Ƥ�������\n",
        "\n"
      ],
      "metadata": {
        "id": "c2wqFlb4eTe2"
      }
    },
    {
      "cell_type": "code",
      "source": [
        "#@markdown ������������������������������������\n",
        "\n",
        "#@markdown ����-A����֪ͨ���Υ������`��\n",
        "\n",
        "#@markdown ������������������������������������\n",
        "\n",
        "from enum import Enum\n",
        "\n",
        "class SoundType(Enum):\n",
        "    START = 0\n",
        "    SUCCESS = 1\n",
        "    FAIL = 2\n",
        "\n",
        "# ----------------------------------\n",
        "\n",
        "! wget --no-check-certificate -c \"https://soundeffect-lab.info/sound/anime/mp3/sceneswitch1.mp3\"\n",
        "! wget --no-check-certificate -c \"https://soundeffect-lab.info/sound/anime/mp3/incorrect1.mp3\"\n",
        "! wget --no-check-certificate -c \"https://soundeffect-lab.info/sound/anime/mp3/switch1.mp3\"\n",
        "\n",
        "from IPython.display import Audio, display\n",
        "import torch\n",
        "\n",
        "def play_sound(sound_type: SoundType, autoplay=True):\n",
        "    try:\n",
        "        if sound_type == SoundType.START:\n",
        "            file_name = \"/content/switch1.mp3\"\n",
        "        elif sound_type == SoundType.SUCCESS:\n",
        "            file_name = \"/content/sceneswitch1.mp3\"\n",
        "        else:\n",
        "            file_name = \"/content/incorrect1.mp3\"\n",
        "\n",
        "        display(Audio(file_name, autoplay=autoplay, normalize=False))\n",
        "    except:\n",
        "        print(\"������������������������������\")\n",
        "        print(\"�����������������Ǥ��ޤ���Ǥ���\")\n",
        "        print(\"������������������������������\")\n",
        "\n",
        "# ----------------------------------\n",
        "\n",
        "exec_dict = {\n",
        "    '��-A': {'exec': False, 'premise': []},\n",
        "    '��-B': {'exec': False, 'premise': ['��-A', ]},\n",
        "    '��-C': {'exec': False, 'premise': ['��-A', '��-B', ]},\n",
        "    '��-D': {'exec': False, 'premise': ['��-A', '��-B', '��-C', ]},\n",
        "    '��-E': {'exec': False, 'premise': ['��-A', '��-B', '��-C', '��-D', ]},\n",
        "    '��-F': {'exec': False, 'premise': ['��-A', '��-B', '��-C', '��-D', '��-E', ]},\n",
        "    '��-A': {'exec': False, 'premise': ['��-A', '��-B', '��-C', '��-D', '��-E', '��-F', ]},\n",
        "    '��-B': {'exec': False, 'premise': ['��-A', '��-B', '��-C', '��-D', '��-E', '��-F', '��-A' ]},\n",
        "}\n",
        "\n",
        "NVIDIA_VISIBLE_DEVICES=all\n",
        "\n",
        "class IpyExit(SystemExit):\n",
        "    def __init__(self):\n",
        "        play_sound(SoundType.FAIL)\n",
        "        pass\n",
        "\n",
        "def check_exec_dict(cell_key: str):\n",
        "    if not torch.cuda.is_available():\n",
        "        print(\"������������������������������\")\n",
        "        print(\"����** ERROR **\")\n",
        "        print(\"����GPU���Є��ˤʤäƤޤ���\")\n",
        "        print(\"�����ʂ侎��ο��ˤ��ʤ����󥿥����GPU�ˉ�����Ƥ���������\")\n",
        "        print(\"������������������������������\")\n",
        "        raise IpyExit\n",
        "\n",
        "    if not exec_dict:\n",
        "        print(\"������������������������������\")\n",
        "        print(\"����** ERROR **\")\n",
        "        print(\"�������롾��-A�����g�Ф���Ƥ��ʤ������Ԥ�����ޤ���\")\n",
        "        print(\"����Ŀ�Τ�����äƌg�Ф��Ƥ���������\")\n",
        "        print(\"������������������������������\")\n",
        "        raise IpyExit\n",
        "\n",
        "    for p in exec_dict[cell_key]['premise']:\n",
        "        # ��ǰ�ˌg�Ф����٤����뤬���٤ƌg�Ф���Ƥ��뤫\n",
        "        if not exec_dict[p]['exec']:\n",
        "            print(\"������������������������������\")\n",
        "            print(\"����** ERROR **\")\n",
        "            print(f\"�������롾{p}�����g�Ф���Ƥ��ʤ������Ԥ�����ޤ���\")\n",
        "            print(\"����Ŀ�Τ�����äƌg�Ф��Ƥ���������\")\n",
        "            print(\"������������������������������\")\n",
        "            raise IpyExit\n",
        "\n",
        "    # ȫ���g�Ф���Ƥ�����OK\n",
        "    play_sound(SoundType.START)\n",
        "    return True\n",
        "\n",
        "def finish_cell(cell_key: str):\n",
        "    play_sound(SoundType.SUCCESS)\n",
        "\n",
        "    print(\"������������������������������\")\n",
        "    print(\"����** OK **\")\n",
        "    print(f\"�������롾{cell_key}���Όg�Ф˳ɹ����ޤ�����\")\n",
        "    print(\"������������������������������\")\n",
        "\n",
        "    exec_dict[cell_key]['exec'] = True\n",
        "\n",
        "# ----------------------------------\n",
        "\n",
        "# ����g�пɷ�\n",
        "ckey = \"��-A\"\n",
        "check_exec_dict(ckey)\n",
        "\n",
        "# ----------------------------------\n",
        "\n",
        "# ����K��\n",
        "\n",
        "finish_cell(ckey)\n",
        "\n",
        "print(\"\")\n",
        "print(\"\")\n",
        "print(\"�� ����g���_ʼ\")\n",
        "play_sound(SoundType.START, autoplay=False)\n",
        "\n",
        "print(\"\")\n",
        "print(\"\")\n",
        "print(\"�� ����g��ʧ��\")\n",
        "play_sound(SoundType.FAIL, autoplay=False)\n",
        "\n",
        "print(\"\")\n",
        "print(\"\")\n",
        "print(\"�� ����g�гɹ�\")\n",
        "play_sound(SoundType.SUCCESS, autoplay=False)"
      ],
      "metadata": {
        "cellView": "form",
        "id": "ENPQ2HkzeZdl"
      },
      "execution_count": null,
      "outputs": []
    },
    {
      "cell_type": "markdown",
      "source": [
        "## ��-B��GPU��󥿥���δ_�J\n",
        "\n",
        "�إå��� \"��󥿥���\"������\"��󥿥���Υ����פ���\"������\"GPU\"�����x�k�����¤�����\n",
        "\n",
        "Ԕ������혤ϡ���[MMD�Ԅӥȥ�`�� �ʂ侎](https://colab.research.google.com/github/miu200521358/motion_trace_colab/blob/master/AutoTraceIntroduction.ipynb)����ο��ˤ��Ƥ���������\n",
        "\n",
        "����Ǥ����顢�¤Ρ���-B���Υ����g�Ф����¤�����"
      ],
      "metadata": {
        "id": "WKqIyaMoe2wP"
      }
    },
    {
      "cell_type": "code",
      "source": [
        "#@markdown ������������������������������������\n",
        "\n",
        "#@markdown ����-B����GPU��󥿥���δ_�J\n",
        "\n",
        "#@markdown ������������������������������������\n",
        "\n",
        "# ����g�пɷ�\n",
        "ckey = \"��-B\"\n",
        "check_exec_dict(ckey)\n",
        "\n",
        "# ----------------------------------\n",
        "! nvidia-smi\n",
        "\n",
        "import subprocess\n",
        "try:\n",
        "    subprocess.check_output(\"nvidia-smi\", shell=True)\n",
        "except:\n",
        "    print(\"������������������������������\")\n",
        "    print(\"����** ERROR **\")\n",
        "    print(\"����nvidia-smi���ޥ�ɤΌg�Ф�ʧ�����ޤ�����\")\n",
        "    print(\"������ �ޤ�GPU��ʹ�äƤʤ����ϡ���󥿥�����O�����ФäƤ��ʤ�����\")\n",
        "    print(\"�������ʂ侎��ο��ˤ��ʤ��顢��󥿥����GPU���O�����Ƥ�������\")\n",
        "    print(\"����������󥿥����������ȭh�����ꥻ�åȤ���뤿�ᡢ����-A��������ֱ���Ƥ�������\")\n",
        "    print(\"������ GPU���������ޤ��_���ơ�CPU�Ǥ���ʹ���ʤ�����\")\n",
        "    print(\"�������o����Έ��ϡ�24�r�g�����ä��Ƥ����������ٶ�ʹ�äǤ���褦�ˤʤ�ޤ�\")\n",
        "    print(\"������������������������������\")\n",
        "\n",
        "# ----------------------------------\n",
        "\n",
        "# ����K��\n",
        "finish_cell(ckey)"
      ],
      "metadata": {
        "cellView": "form",
        "id": "_dGYRo6Me7Df"
      },
      "execution_count": null,
      "outputs": []
    },
    {
      "cell_type": "markdown",
      "source": [
        "## ��-C��Google�ɥ饤�֤Ȥ��BЯ\n",
        "\n",
        "��ӛĿ�ĤΤ��ᡢ����Colab�ک`�����餢�ʤ���Google�ɥ饤�֤˥������������S�ɤ��뤨�Ƥ���������\n",
        " - Google�ɥ饤�֤˱��椵�줿�ȥ�`��Ԫ�ӻ����i��ȡ���\n",
        " - �Ԅӥȥ�`���Y���򱣴椹���\n",
        "\n",
        "��Google�ɥ饤���ڤΡ�autotrace���ե��������ϴ���ޤ���\n",
        "\n",
        "�¤Ρ���-C���Υ����g�Ф��ơ����֥�����ɥ������BЯ���S�ɤ��Ƥ���������\n",
        "\n",
        "�����¤�Colab���ȡ����`�Υ��ԥڄI��ϲ�Ҫ�ˤʤ�ޤ�����"
      ],
      "metadata": {
        "id": "WfRS49WpfC0a"
      }
    },
    {
      "cell_type": "code",
      "source": [
        "#@markdown ������������������������������������\n",
        "\n",
        "#@markdown ����-C����Google�ɥ饤�֤Ȥ��BЯ\n",
        "\n",
        "#@markdown ������������������������������������\n",
        "\n",
        "# ����g�пɷ�\n",
        "ckey = \"��-C\"\n",
        "check_exec_dict(ckey)\n",
        "\n",
        "# ----------------------------------\n",
        "\n",
        "from google.colab import drive\n",
        "import os\n",
        "\n",
        "# Google�ɥ饤�֥ޥ����\n",
        "drive.mount('/gdrive')\n",
        "\n",
        "# ���ǥ��쥯�ȥ�\n",
        "base_dir_path = \"/gdrive/My Drive/autotrace\"\n",
        "\n",
        "if os.path.exists(base_dir_path):\n",
        "    print(\"������������������������������\")\n",
        "    print(\"����** OK **\")\n",
        "    print(\"����autotrace�ե�����ڤȤ��BЯ���ɹ����ޤ�����\")\n",
        "    print(\"������������������������������\")\n",
        "else:\n",
        "    print(\"������������������������������\")\n",
        "    print(\"����** ERROR **\")\n",
        "    print(\"����autotrace�ե������Google�ɥ饤�֤�ֱ�¤�Ҋ�Ĥ���ޤ���Ǥ�����\")\n",
        "    print(\"�����ʂ侎��ο��ˤ��ʤ��顢autotrace�ե���������ɤ��Ƥ���������\")\n",
        "    print(\"���������ڥ�ߥ����ä����ϡ��ե��������ʤɤΉ�����Ф鷺���¤����ե�����⤷���ϥե������ԇ���Ƥ���������\")\n",
        "    print(\"������Google�ɥ饤�֤Ȥ��BЯ��θ��¤Ϥ��ޤ��J�R����ޤ���\")\n",
        "    print(\"�������٤�������饰������Τǡ���������ֱ����J�R����ʤ����Ϥ�����ޤ���\")\n",
        "    print(\"������10�뤯�餤���äƤ��饻����ٌg�Ф��Ƥ���������\")\n",
        "    print(\"������������������������������\")\n",
        "    raise IpyExit\n",
        "\n",
        "# ----------------------------------\n",
        "\n",
        "# ����K��\n",
        "finish_cell(ckey)"
      ],
      "metadata": {
        "cellView": "form",
        "id": "QkEaktdxfcqE"
      },
      "execution_count": null,
      "outputs": []
    },
    {
      "cell_type": "markdown",
      "source": [
        "## ��-D��GoogleSDK�Ȥ��BЯ\n",
        "\n",
        "miu��Google�ɥ饤�֤����Ԅӥȥ�`���˱�Ҫ�ʥǩ`����DL���뤿�ᡢ`GoogleSDK` ���BЯ���ޤ���\n",
        "\n",
        "���롾��-C����ͬ������URL���饢�������S�ɤ��뤨�Ƥ���������"
      ],
      "metadata": {
        "id": "TAPv-jy7fz4h"
      }
    },
    {
      "cell_type": "code",
      "source": [
        "#@markdown ������������������������������������\n",
        "\n",
        "#@markdown ����-D����Google SDK �Ȥ��BЯ\n",
        "\n",
        "#@markdown ������������������������������������\n",
        "\n",
        "# ����g�пɷ�\n",
        "ckey = \"��-D\"\n",
        "check_exec_dict(ckey)\n",
        "\n",
        "# ----------------------------------\n",
        "\n",
        "# Google�ɥ饤�֥��������饤�֥��\n",
        "!pip install -U -q PyDrive\n",
        "\n",
        "from pydrive.auth import GoogleAuth\n",
        "from pydrive.drive import GoogleDrive\n",
        "from google.colab import auth\n",
        "from oauth2client.client import GoogleCredentials\n",
        "\n",
        "try:\n",
        "    auth.authenticate_user()\n",
        "    gauth = GoogleAuth()\n",
        "    gauth.credentials = GoogleCredentials.get_application_default()\n",
        "    drive = GoogleDrive(gauth)\n",
        "\n",
        "    print(\"������������������������������\")\n",
        "    print(\"����** OK **\")\n",
        "    print(\"����Google SDK �Ȥ��BЯ�˳ɹ����ޤ�����\")\n",
        "    print(\"������������������������������\")\n",
        "\n",
        "except Exception as e:\n",
        "    print(e.message)\n",
        "    print(\"������������������������������\")\n",
        "    print(\"����** Error **\")\n",
        "    print(\"����Google SDK �Ȥ��BЯ��ʧ�����ޤ�����\")\n",
        "    print(\"�������ΥΩ`�ȥ֥å������ߤ˹��Ф��Ƥ���������\")\n",
        "    print(\"������������������������������\")\n",
        "    raise IpyExit\n",
        "\n",
        "# ----------------------------------\n",
        "\n",
        "# ����K��\n",
        "finish_cell(ckey)"
      ],
      "metadata": {
        "cellView": "form",
        "id": "P51Ag4QigW1q"
      },
      "execution_count": null,
      "outputs": []
    },
    {
      "cell_type": "markdown",
      "source": [
        "## ��-E�����`�ɥ��åȥ��å�\n",
        "\n",
        "MMD�Ԅӥȥ�`���Υ��`�ɤ򘋺B���ޤ���\n",
        "\n",
        "�¤Ρ���-E���Υ����g�Ф����¤�����\n",
        "\n",
        "���������å��`�������ޤ���10�֤��餤������ޤ���\n",
        "\n",
        "**;�Фǥ���ѥ��뤬�ߤ�Τǡ��Ӥ��ʤ��ʤä��褦��Ҋ����w��������ޤ���**\n",
        "\n",
        "**�ӥå��ꤷ��������ˤʤäơ�������жϤ��ʤ��褦������ޤ������Τޤ޴��äƤ���нK���ޤ���**\n",
        "\n",
        "`ERROR` �Ȥ��������Ф�������Ϥ⤢��ޤ������Ԅӥȥ�`����g�Ф���ˤφ��}�ʤ�����`�ο����Ԥ��ߤ��Τǡ�һ���oҕ���Ƥ��Τޤ��M����¤�����"
      ],
      "metadata": {
        "id": "8hXO0YvKhLa_"
      }
    },
    {
      "cell_type": "code",
      "source": [
        "#@markdown ������������������������������������\n",
        "\n",
        "#@markdown ����-E�������`�ɥ��åȥ��å�\n",
        "\n",
        "#@markdown ������������������������������������\n",
        "\n",
        "# ����g�пɷ�\n",
        "ckey = \"��-E\"\n",
        "check_exec_dict(ckey)\n",
        "\n",
        "# ----------------------------\n",
        "\n",
        "# https://www.usagi1975.com/2019152355/\n",
        "! apt-key adv --keyserver keyserver.ubuntu.com --recv aa9795093fe2f255acb3500d85304cfd1408787d\n",
        "! echo \"deb http://ppa.launchpad.net/deadsnakes/ppa/ubuntu bionic main \" > /etc/apt/sources.list.d/python.list\n",
        "! echo \"deb-src http://ppa.launchpad.net/deadsnakes/ppa/ubuntu bionic main\" >> /etc/apt/sources.list.d/python.list\n",
        "! apt update\n",
        "\n",
        "# Python3.9�˥��åץǩ`��\n",
        "!sudo apt-get -y update\n",
        "!sudo apt-get -y install python3.9\n",
        "!sudo apt-get -y install python3.9-dev\n",
        "!sudo apt-get -y install python3-pip\n",
        "!sudo apt-get -y install python3.9-distutils\n",
        "!python3.9 -m pip install --upgrade setuptools\n",
        "!python3.9 -m pip install --upgrade pip\n",
        "!python3.9 -m pip install --upgrade distlib\n",
        "\n",
        "! sudo apt install libosmesa6-dev\n",
        "! sudo apt-get install build-essential libgl1-mesa-dev libglu1-mesa-dev freeglut3-dev gcc libyaml-dev\n",
        "\n",
        "import shutil\n",
        "\n",
        "if os.path.exists('./mmd-auto-trace-3'):\n",
        "    shutil.rmtree('./mmd-auto-trace-3')\n",
        "\n",
        "# MMD�Ԅӥȥ�`��v3 �Щ`����󥿥�\n",
        "version_tag = \"ver3.00.00\"\n",
        "\n",
        "! git clone  --recursive --depth 1 -b \"$version_tag\" \"https://github.com/miu200521358/mmd-auto-trace-3.git\"\n",
        "\n",
        "! python3.9 -m pip install torch==1.12.1+cu113 torchvision==0.13.1+cu113 torchaudio==0.12.1 --extra-index-url https://download.pytorch.org/whl/cu113\n",
        "! python3.9 -m pip install cython\n",
        "! python3.9 -m pip install six\n",
        "! python3.9 -m pip install terminaltables\n",
        "! python3.9 -m pip install scipy\n",
        "! python3.9 -m pip install opencv-python\n",
        "! python3.9 -m pip install matplotlib\n",
        "! python3.9 -m pip install visdom\n",
        "! python3.9 -m pip install tqdm\n",
        "! python3.9 -m pip install tensorboardx\n",
        "! python3.9 -m pip install easydict\n",
        "! python3.9 -m pip install pyyaml\n",
        "! python3.9 -m pip install halpecocotools\n",
        "! python3.9 -m pip install munkres\n",
        "! python3.9 -m pip install timm==0.1.20\n",
        "! python3.9 -m pip install natsort\n",
        "! python3.9 -m pip install opendr\n",
        "! python3.9 -m pip install pycocotools \n",
        "! python3.9 -m pip install cython-bbox\n",
        "! python3.9 -m pip install --upgrade -r \"./mmd-auto-trace-3/requirements.txt\"\n",
        "! cd /content/mmd-auto-trace-3/src/AlphaPose && python3.9 setup.py build develop\n",
        "\n",
        "# ----------------------------\n",
        "\n",
        "# ����K��\n",
        "finish_cell(ckey)"
      ],
      "metadata": {
        "cellView": "form",
        "id": "Wm_DfN5bhaCl"
      },
      "execution_count": null,
      "outputs": []
    },
    {
      "cell_type": "markdown",
      "source": [
        "## ��-F���ǩ`������\n",
        "\n",
        "MMD�Ԅӥȥ�`���˱�Ҫ�ʥǩ`�������ä��ޤ���\n",
        "\n",
        "�¤Ρ���-F���Υ����g�Ф����¤�����\n",
        "\n",
        "���������å��`�������ޤ���2�֤��餤������ޤ���"
      ],
      "metadata": {
        "id": "0wpzqPQ4ihVn"
      }
    },
    {
      "cell_type": "code",
      "source": [
        "#@markdown ������������������������������������\n",
        "\n",
        "#@markdown ����-F�����ǩ`������\n",
        "\n",
        "#@markdown ������������������������������������\n",
        "\n",
        "# ����g�пɷ�\n",
        "ckey = \"��-F\"\n",
        "check_exec_dict(ckey)\n",
        "\n",
        "# ----------------------------\n",
        "\n",
        "# 3d-multi-pose-pose.zip\n",
        "downloaded = drive.CreateFile({'id': '1LtUFDGOSLW52qQwg59azrJxOfXTCtFDm'})\n",
        "downloaded.GetContentFile('/content/mmd-auto-trace-3/data/3d-multi-pose-pose.zip')\n",
        "! cd mmd-auto-trace-3/data && unzip -o ./3d-multi-pose-pose.zip\n",
        "\n",
        "# alphapose.zip\n",
        "downloaded = drive.CreateFile({'id': '16MITkRde9HVyr-6CVC55PkEYlTokwdG_'})\n",
        "downloaded.GetContentFile('/content/mmd-auto-trace-3/data/alphapose.zip')\n",
        "! cd mmd-auto-trace-3/data && unzip -o ./alphapose.zip\n",
        "\n",
        "# posetriplet.zip\n",
        "downloaded = drive.CreateFile({'id': '1Z_L0bq78sA66piDbcP3OEMPv0pImdrHU'})\n",
        "downloaded.GetContentFile('/content/mmd-auto-trace-3/data/posetriplet.zip')\n",
        "! cd mmd-auto-trace-3/data && unzip -o ./posetriplet.zip\n",
        "\n",
        "# ----------------------------\n",
        "\n",
        "# ����K��\n",
        "finish_cell(ckey)"
      ],
      "metadata": {
        "cellView": "form",
        "id": "VGB11PgjisJ1"
      },
      "execution_count": null,
      "outputs": []
    },
    {
      "cell_type": "markdown",
      "source": [
        "# �ڡ�MMD�Ԅӥȥ�`��v3 �g��"
      ],
      "metadata": {
        "id": "5ek2ZWYJkMqb"
      }
    },
    {
      "cell_type": "markdown",
      "source": [
        "## ��-A���ȥ�`��Ԫ�ӻ�����\n",
        "\n",
        "�ȥ�`�����Ф������ӻ��ե�����򡢜ʂ䤷�Ƥ���������\n",
        "\n",
        " - �ե��������� **���Ӣ���֤Τ�** �ˤ��Ƥ���������opencv��2�Х������֤��i���z��ޤ���\n",
        " - ���ޤ��L���ӻ��ϥǥ��������������ʤ��ʤ�ޤ���6000f�򳬤�����ϡ��ָ�Ƥ���������\n",
        " - Google�ɥ饤�֤� **autotrace** �ե���� ֱ�¤��ä��Ƥ���������\n",
        " - **�ޥ�������Goole�ɥ饤���ϤΥե�������ϕ�������¤��������J�R����ޤ���** �¤����ե��������Ҏ����ǰ�ǥ��åץ�`�ɤ��Ƥ���I�����¤�����\n",
        " - ��������Τϡ��ե��������������Ӻ��ࣩ�ΤߤǤ���\n",
        " - �ե�����򥢥åץ�`�ɤǤ����顢�¤Ρ���-A���Υ����g�Ф����¤�����"
      ],
      "metadata": {
        "id": "30ajJ1K3kW69"
      }
    },
    {
      "cell_type": "code",
      "source": [
        "#@markdown ������������������������������������\n",
        "\n",
        "#@markdown ����-A�����ȥ�`��Ԫ�ӻ�����\n",
        "\n",
        "#@markdown ������������������������������������\n",
        "\n",
        "# ����g�пɷ�\n",
        "ckey = \"��-A\"\n",
        "check_exec_dict(ckey)\n",
        "\n",
        "# ----------------------------\n",
        "\n",
        "input_video_name = \"input.mp4\"  #@param {type: \"string\"}\n",
        "\n",
        "import os\n",
        "input_video_path = os.path.join(base_dir_path, input_video_name)\n",
        "\n",
        "if not os.path.exists(input_video_path):\n",
        "    print(\"������������������������������\")\n",
        "    print(\"����** ERROR **\")\n",
        "    print(\"����autotrace ֱ�¤� ָ���ӻ� ��Ҋ�Ĥ���ޤ���Ǥ�����\")\n",
        "    print(\"����?�ޥ��ɥ饤�� > ��autotrace���ե���� > ָ������ ��혷��ǥե����뤬���ä���Ƥ��뤫�ٴ_�J���Ƥ�������\")\n",
        "    print(\"����?���ä���ֱ����ȡ��J�R���g�˺Ϥ�ʤ����Ϥ�����ޤ��Τǡ�10��ۤɴ��äƤ����ٶȌg�Ф��Ƥ�������\")\n",
        "    print(\"�����ե�����ѥ�: \" + input_video_path)\n",
        "    print(\"������������������������������\")\n",
        "    raise IpyExit\n",
        "else:\n",
        "    ! cp \"$input_video_path\" .\n",
        "\n",
        "    input_video_path = f\"/content/{input_video_name}\"\n",
        "\n",
        "    print(\"������������������������������\")\n",
        "    print(\"����** OK **\")\n",
        "    print(\"�����ȥ�`��Ԫ�ӻ������ä����ˤ��ޤ�����\")\n",
        "    print(\"�����ե�����ѥ�: \" + input_video_path)\n",
        "    print(\"������������������������������\")\n",
        "\n",
        "\n",
        "# ----------------------------\n",
        "\n",
        "# ����K��\n",
        "finish_cell(ckey)"
      ],
      "metadata": {
        "cellView": "form",
        "id": "625x35Vaky9I"
      },
      "execution_count": null,
      "outputs": []
    },
    {
      "cell_type": "markdown",
      "source": [
        "## ��-B��MMD�Ԅӥȥ�`��v3 �g��\n",
        "\n",
        "�ȥ�`��Ԫ�ӻ��ˌ����ơ�MMD�Ԅӥȥ�`����g�Ф��ޤ���\n",
        "\n",
        "1�ˤ΄ӻ�1�֤ˤĤ���20�֤ۤɤ�����ޤ���\n",
        "\n",
        "�ȥ�`�����K�ˤ���ȡ�Google�ɥ饤�֤� `autotrace` �ե�����˥ȥ�`���Y���򱣴椷�ޤ���"
      ],
      "metadata": {
        "id": "9Tinu8_mlnzN"
      }
    },
    {
      "cell_type": "code",
      "source": [
        "#@markdown ������������������������������������\n",
        "\n",
        "#@markdown ����-B����MMD�Ԅӥȥ�`��v3 �g��\n",
        "\n",
        "#@markdown ������������������������������������\n",
        "\n",
        "# ����g�пɷ�\n",
        "ckey = \"��-B\"\n",
        "check_exec_dict(ckey)\n",
        "\n",
        "# ----------------------------\n",
        "\n",
        "# import torch\n",
        "# torch.multiprocessing.set_sharing_strategy(\"file_descriptor\")\n",
        "# torch.multiprocessing.set_start_method('spawn')\n",
        "\n",
        "import datetime\n",
        "process_img_dir_name = f\"{os.path.basename(input_video_path).replace('.', '_')}_{datetime.datetime.now():%Y%m%d_%H%M%S}\"\n",
        "process_img_dir_path = os.path.join('/content/output', process_img_dir_name)\n",
        "os.makedirs(process_img_dir_path, exist_ok=True)\n",
        "\n",
        "! cd /content/mmd-auto-trace-3/src && python3.9 executor.py --video-file \"$input_video_path\" --parent-dir \"$process_img_dir_path\" --process prepare,alphapose,multipose,posetriplet,mix,motion --verbose 20 --log-mode 0 --lang ja\n",
        "\n",
        "import os\n",
        "if os.path.exists(\"/content/mmd-auto-trace-3/log/quit.log\"):\n",
        "    raise IpyExit\n",
        "\n",
        "# �Y����Google�ɥ饤�֤˥��ԩ`\n",
        "output_path = os.path.join(base_dir_path, process_img_dir_name)\n",
        "os.makedirs(output_path, exist_ok=True)\n",
        "\n",
        "import shutil\n",
        "\n",
        "# alphapose.mp4\n",
        "shutil.copy(os.path.join(process_img_dir_path, \"02_alphapose\", \"alphapose.mp4\"), os.path.join(output_path, \"alphapose.mp4\"))\n",
        "\n",
        "# mix(json)\n",
        "shutil.copytree(os.path.join(process_img_dir_path, \"05_mix\"), os.path.join(output_path, \"01_json\"))\n",
        "\n",
        "# viz_pos.html\n",
        "shutil.copy(os.path.join(\"/content/mmd-auto-trace-3/data/viz_pos.html\"), os.path.join(output_path, \"01_json\", \"viz_pos.html\"))\n",
        "\n",
        "# motion(vmd)\n",
        "shutil.copytree(os.path.join(process_img_dir_path, \"06_motion\"), os.path.join(output_path, \"02_motion\"))\n",
        "\n",
        "os.makedirs(os.path.join(output_path, \"trace_model\"))\n",
        "\n",
        "# pmx\n",
        "shutil.copy(os.path.join(\"/content/mmd-auto-trace-3/data/pmx/trace_model.pmx\"), os.path.join(output_path, \"trace_model\", \"trace_model.pmx\"))\n",
        "\n",
        "# pmx(tex)\n",
        "shutil.copytree(\"/content/mmd-auto-trace-3/data/pmx/tex\", os.path.join(output_path, \"trace_model/tex\"))\n",
        "\n",
        "# readme\n",
        "shutil.copy(os.path.join(\"/content/mmd-auto-trace-3/data/readme_ja.txt\"), os.path.join(output_path, \"readme.txt\"))\n",
        "\n",
        "# ----------------------------\n",
        "\n",
        "# ����K��\n",
        "finish_cell(ckey)"
      ],
      "metadata": {
        "id": "Q32Z-oOqlZLd",
        "cellView": "form"
      },
      "execution_count": null,
      "outputs": []
    }
  ]
}