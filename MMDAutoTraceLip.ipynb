{
  "nbformat": 4,
  "nbformat_minor": 0,
  "metadata": {
    "colab": {
      "name": "MMDAutoTraceLip1.00.00.ipynb",
      "provenance": [],
      "collapsed_sections": [],
      "toc_visible": true
    },
    "kernelspec": {
      "name": "python3",
      "display_name": "Python 3"
    },
    "accelerator": "GPU"
  },
  "cells": [
    {
      "cell_type": "markdown",
      "metadata": {
        "id": "vEkCwPsnYcEu"
      },
      "source": [
        "# colab版MMD自動トレースv2（リップ版）へようこそ！(実行編)"
      ]
    },
    {
      "cell_type": "markdown",
      "metadata": {
        "id": "lqSBUG5dYgoU"
      },
      "source": [
        "# 始めに\r\n",
        "\r\n",
        "このツールの稼働状況やメンテナンス情報はTwitter（[@miu200521358](https://twitter.com/miu200521358)）にて行っています。\r\n",
        "\r\n",
        "エラーになる、起動しない、などの場合、まずは現在の配布状況をご確認ください。\r\n",
        "\r\n",
        "リプやDM等でのお問い合わせも受け付けています。\r\n",
        "\r\n",
        "また、v2では会員登録後にダウンロードできる学習データが必要なため、会員登録をお願いしています。"
      ]
    },
    {
      "cell_type": "markdown",
      "metadata": {
        "id": "iF8KZvMQ1D8O"
      },
      "source": [
        "# 目次\r\n",
        "\r\n",
        "このノートブックでは、MMD自動トレースの準備と実行を行います。\r\n",
        "\r\n",
        "ノートブックの使い方にはクセがあるので、「[準備編](https://colab.research.google.com/github/miu200521358/motion_trace_colab/blob/master/AutoTraceIntroduction.ipynb)」で使い方に慣れてください。\r\n",
        "\r\n",
        "画面左上の「＝」（実際は三本線）をクリックして下さい。目次が開きます。（既に開いている場合は次へ進んでください）\r\n",
        "\r\n",
        "![目次](https://drive.google.com/uc?export=view&id=1HGk4sJmcPtMbMwcJOvE3aU1GjvKinwA_)\r\n",
        "\r\n",
        "Googleドライブの直下に`autotrace`フォルダを作成してください。\r\n",
        "\r\n",
        "（準備編で既に作られている場合は再作成不要です）\r\n",
        "\r\n",
        "ノートブックを上から順に確認し、以下手順をひとつずつ実行してください。\r\n",
        "\r\n",
        "実行が必要なセルには番号を振ってあります。①から順番に実行してください。\r\n",
        "\r\n",
        "\r\n",
        "- **「①　データ連携」**\r\n",
        "  - Googleドライブと連携します\r\n",
        "  - 連携のやり方は、導入編をご確認ください\r\n",
        "- **「②　環境設定」**\r\n",
        "  - ランタイムがGPUに変更できたことを確認します\r\n",
        "    - 変更のやり方は、導入編をご確認ください\r\n",
        "  - Tensorflowのバージョンを1.xに変更します\r\n",
        "  - 効果音を[効果音ラボ](https://soundeffect-lab.info/)様よりダウンロードします\r\n",
        "   - 準備や実際のトレース処理等、長い処理時に鳴らします\r\n",
        "   - 不要の場合は、ブラウザの音量をミュートにしてください\r\n",
        "- **「③　準備」**\r\n",
        "    - MMD自動トレースに必要なコードをcolab上に構築します。\r\n",
        "    - 大体10分くらいかかります。\r\n",
        "- **「④　音声配置」**\r\n",
        "    - MMD自動トレースの対象となる音声データを配置します。\r\n",
        "- **「⑤　MMD自動トレース実行」**\r\n",
        "    - MMD自動トレースを実行します。\r\n",
        "\r\n",
        "---\r\n",
        "\r\n",
        "※作業中に下記のような警告が出ることがありますが、そのまま進めていただいて問題ありません\r\n",
        "\r\n",
        "　（GPUを使うのは主に音声分離などの一部分ですので、その他のセルを作業中に出る可能性があります。）\r\n",
        "\r\n",
        "![警告](https://drive.google.com/uc?export=view&id=1mRW32urnPQ4LS4xrLEoPdp_XCqlq1HUF)\r\n",
        "\r\n",
        "---\r\n",
        "\r\n",
        "※下記のようなエラーが出た場合、環境が既に破棄されています。\r\n",
        "\r\n",
        "目次からセル①に戻って、すべて実行し直してください。\r\n",
        "\r\n",
        "![Googleドライブ連携](https://drive.google.com/uc?export=view&id=1Tsjzs2QAECPMfUTaTh7PYX2cMEypEIF2)"
      ]
    },
    {
      "cell_type": "markdown",
      "metadata": {
        "id": "ceAv9Mdy1aXA"
      },
      "source": [
        "# MMD自動トレース（リップ）実行"
      ]
    },
    {
      "cell_type": "markdown",
      "metadata": {
        "id": "5MglDflC1fIk"
      },
      "source": [
        "## ①　データ連携\r\n",
        "\r\n",
        "Googleドライブの `autotrace` フォルダと連携します。\r\n",
        "\r\n",
        "下の【①】のセルを実行してください。"
      ]
    },
    {
      "cell_type": "code",
      "metadata": {
        "id": "jDfgN-TX1kJs",
        "cellView": "form"
      },
      "source": [
        "#@markdown ■■■■■■■■■■■■■■■■■■\r\n",
        "\r\n",
        "#@markdown 【セル①】　Googleドライブとの連携\r\n",
        "\r\n",
        "#@markdown ■■■■■■■■■■■■■■■■■■\r\n",
        "\r\n",
        "exec_dict = {}\r\n",
        "exec_dict['1'] = True\r\n",
        "\r\n",
        "from google.colab import drive\r\n",
        "import os\r\n",
        "\r\n",
        "# Googleドライブマウント\r\n",
        "drive.mount('/gdrive')\r\n",
        "\r\n",
        "# 起点ディレクトリ\r\n",
        "base_path = \"/gdrive/My Drive/autotrace\"\r\n",
        "\r\n",
        "if os.path.exists(base_path):\r\n",
        "    ! echo \"autotraceフォルダの中身 -----------\"\r\n",
        "    ! ls -l \"$base_path\"\r\n",
        "    ! echo \"--------------------\"\r\n",
        "\r\n",
        "    print(\"■■■■■■■■■■■■■■■\")\r\n",
        "    print(\"■　** OK **\")\r\n",
        "    print(\"■　autotraceフォルダとの連携が成功しました。\")\r\n",
        "    print(\"■■■■■■■■■■■■■■■\")\r\n",
        "\r\n",
        "    exec_dict['1'] = True\r\n",
        "else:\r\n",
        "    print(\"■■■■■■■■■■■■■■■\")\r\n",
        "    print(\"■　** ERROR **\")\r\n",
        "    print(\"■　autotraceフォルダがGoogleドライブの直下に見つかりませんでした。\")\r\n",
        "    print(\"■　準備編から実行し直してください。\")\r\n",
        "    print(\"■■■■■■■■■■■■■■■\")\r\n"
      ],
      "execution_count": null,
      "outputs": []
    },
    {
      "cell_type": "markdown",
      "metadata": {
        "id": "01zd2g7L1oKU"
      },
      "source": [
        "**【OK】**\r\n",
        "\r\n",
        "下記のように、「autotrace」フォルダの中身が表示されていたら成功です。\r\n",
        "\r\n",
        "![Googleドライブ連携](https://drive.google.com/uc?export=view&id=19OhLvcyP-CN90KWDmkmBuSRR3BpO5GzV)\r\n"
      ]
    },
    {
      "cell_type": "markdown",
      "metadata": {
        "id": "tQJNHukh1unm"
      },
      "source": [
        "## **②　環境設定**"
      ]
    },
    {
      "cell_type": "markdown",
      "metadata": {
        "id": "_wXc3kLV1xKW"
      },
      "source": [
        "ヘッダの \"ランタイム\"　＞　\"ランタイムのタイプを変更\"　＞　\"GPU\"　を選択して下さい。\r\n",
        "\r\n",
        "変更できたら、下の【②】のセルを実行して下さい。"
      ]
    },
    {
      "cell_type": "code",
      "metadata": {
        "cellView": "form",
        "id": "iD9-Z2a81z3H"
      },
      "source": [
        "#@markdown ■■■■■■■■■■■■■■■■■■\r\n",
        "\r\n",
        "#@markdown 【セル②】　\r\n",
        "#@markdown - ランタイムがGPUであることの確認\r\n",
        "#@markdown - Tensorflowのバージョンを 1.x に変更\r\n",
        "#@markdown - 効果音を[効果音ラボ](https://soundeffect-lab.info/)様よりダウンロード\r\n",
        "\r\n",
        "#@markdown ■■■■■■■■■■■■■■■■■■\r\n",
        "\r\n",
        "if not exec_dict or '1' not in exec_dict.keys():\r\n",
        "    print(\"■■■■■■■■■■■■■■■\")\r\n",
        "    print(\"■　** ERROR **\")\r\n",
        "    print(\"■　セル①が実行されていない可能性があります。\")\r\n",
        "    print(\"■　目次から戻って実行してください。\")\r\n",
        "    print(\"■■■■■■■■■■■■■■■\")\r\n",
        "\r\n",
        "exec_dict['2'] = True\r\n",
        "\r\n",
        "! echo --------------\r\n",
        "! echo 【A】 ランタイムをGPUに変更\r\n",
        "! echo --------------\r\n",
        "\r\n",
        "! nvcc --version\r\n",
        "! nvidia-smi\r\n",
        "\r\n",
        "! echo --------------\r\n",
        "! echo 【B】 Tensorflowのバージョンを 1.x に変更\r\n",
        "! echo --------------\r\n",
        "\r\n",
        "%tensorflow_version 1.x\r\n",
        "\r\n",
        "%tensorflow_version\r\n",
        "\r\n",
        "! echo --------------\r\n",
        "! echo 【D】 効果音をダウンロード\r\n",
        "! echo --------------\r\n",
        "\r\n",
        "! wget --no-check-certificate -c \"https://soundeffect-lab.info/sound/anime/mp3/sceneswitch1.mp3\"\r\n",
        "\r\n",
        "from IPython.display import Audio, display\r\n",
        "def play_sound():\r\n",
        "    try:\r\n",
        "        display(Audio(\"sceneswitch1.mp3\", autoplay=True))\r\n",
        "    except:\r\n",
        "        print(\"■■■■■■■■■■■■■■■\")\r\n",
        "        print(\"■　効果音が再生できませんでした\")\r\n",
        "        print(\"■■■■■■■■■■■■■■■\")\r\n",
        "\r\n",
        "play_sound()\r\n"
      ],
      "execution_count": null,
      "outputs": []
    },
    {
      "cell_type": "markdown",
      "metadata": {
        "id": "wnCvO_BM15Xu"
      },
      "source": [
        "**【OK】**\r\n",
        "\r\n",
        "下記のように表示されて、最後に音が鳴ったら成功です。\r\n",
        "\r\n",
        "![GPU切り替え失敗](https://drive.google.com/uc?export=view&id=1WK0Oo3qQESB8hVlkvyWfsq17LUn3N308)\r\n",
        "\r\n",
        "---\r\n",
        "\r\n",
        "**【NG】**\r\n",
        "\r\n",
        "下記のように表示されていたら、ランタイムの変更に失敗しているので、導入編を再度確認して、ランタイムを変更してください。\r\n",
        "\r\n",
        "![GPU変更成功](https://drive.google.com/uc?export=view&id=1E230eOWMctbD2F7qTvn_fR-3gBRQQ_uQ)\r\n"
      ]
    },
    {
      "cell_type": "markdown",
      "metadata": {
        "id": "Oeyvm-Bq19kp"
      },
      "source": [
        "## **③　コード準備**\r\n",
        "\r\n",
        "MMD自動トレースコードをColab上に構築します。\r\n",
        "\r\n",
        "下の【③】のセルを実行してください。たくさんメッセージが出ます。\r\n",
        "\r\n",
        "【②】でDLした音が鳴ったら終了です。"
      ]
    },
    {
      "cell_type": "code",
      "metadata": {
        "cellView": "form",
        "id": "w6PaKgyZ2BV3"
      },
      "source": [
        "#@markdown ■■■■■■■■■■■■■■■■■■\r\n",
        "\r\n",
        "#@markdown 【セル③】　コード準備実行\r\n",
        "\r\n",
        "#@markdown ■■■■■■■■■■■■■■■■■■\r\n",
        "\r\n",
        "if not exec_dict or '1' not in exec_dict.keys():\r\n",
        "    print(\"■■■■■■■■■■■■■■■\")\r\n",
        "    print(\"■　** ERROR **\")\r\n",
        "    print(\"■　セル①が実行されていない可能性があります。\")\r\n",
        "    print(\"■　目次から戻って実行してください。\")\r\n",
        "    print(\"■■■■■■■■■■■■■■■\")\r\n",
        "\r\n",
        "elif not exec_dict or '2' not in exec_dict.keys():\r\n",
        "    print(\"■■■■■■■■■■■■■■■\")\r\n",
        "    print(\"■　** ERROR **\")\r\n",
        "    print(\"■　セル②が実行されていない可能性があります。\")\r\n",
        "    print(\"■　目次から戻って実行してください。\")\r\n",
        "    print(\"■■■■■■■■■■■■■■■\")\r\n",
        "\r\n",
        "else:\r\n",
        "    import shutil\r\n",
        "    \r\n",
        "    if os.path.exists('./segmentation-kit-mmd'):\r\n",
        "        shutil.rmtree('./segmentation-kit-mmd')\r\n",
        "\r\n",
        "    # MMD自動トレースキットバージョンタグ\r\n",
        "    # ver_tag = \"ver1.01\"\r\n",
        "    ver_tag = \"work_1.00\"\r\n",
        "\r\n",
        "    ! git clone  --depth 1 -b \"$ver_tag\" \"https://github.com/miu200521358/segmentation-kit-mmd.git\"\r\n",
        "\r\n",
        "    ! pip install -r \"segmentation-kit-mmd/requirements.txt\"\r\n",
        "\r\n",
        "    # 入れ直し\r\n",
        "    ! pip uninstall -y ffmpeg ffmpeg-python\r\n",
        "    ! pip install ffmpeg ffmpeg-python\r\n",
        "\r\n",
        "    # 最新版Julius\r\n",
        "    if os.path.exists('./julius'):\r\n",
        "        shutil.rmtree('./julius')\r\n",
        "\r\n",
        "    ! sudo apt-get install build-essential zlib1g-dev libsdl2-dev libasound2-dev\r\n",
        "    ! git clone https://github.com/julius-speech/julius.git\r\n",
        "    ! cd julius && ./configure --enable-words-int && make -j4\r\n",
        "\r\n",
        "    # ! sudo apt install git-lfs\r\n",
        "    # ! cd ./julius/ && git clone https://github.com/julius-speech/dictation-kit.git\r\n",
        "\r\n",
        "    exec_dict['3'] = True\r\n",
        "\r\n",
        "    print(\"■■■■■■■■■■■■■■■\")\r\n",
        "    print(\"■　** OK **\")\r\n",
        "    print(\"■　コードの構築が完了しました。\")\r\n",
        "    print(\"■■■■■■■■■■■■■■■\")\r\n",
        "\r\n",
        "    play_sound()"
      ],
      "execution_count": null,
      "outputs": []
    },
    {
      "cell_type": "markdown",
      "metadata": {
        "id": "f0Xo9-UN4pgK"
      },
      "source": [
        "## **④　入力音声アップロード**"
      ]
    },
    {
      "cell_type": "markdown",
      "metadata": {
        "id": "z_hlyqAG4wHl"
      },
      "source": [
        "処理したい音声ファイルを、準備してください。\r\n",
        "\r\n",
        " - ファイル名は **半角英数字のみ** にしてください。opencvは2バイト文字を読み込めません。\r\n",
        " - ファイルは、wavファイルとmp3ファイルに対応しています。\r\n",
        " - 人間の声の他、楽曲としての音が入っていても問題ありません。（人の声のみ抜き出します）\r\n",
        " - ボカロ系の声は認識率が若干落ちます。\r\n",
        " - Googleドライブの **autotrace** フォルダ 直下に置いてください。\r\n",
        " - **マウント後のGooleドライブ上のファイルの上書きや更新は正しく認識されません。** 新しいファイルは新規の名前でアップロードしてから処理して下さい。\r\n",
        " - 入力するのは、ファイル名（拡張子含む）のみです。\r\n",
        " - 下の【④】のセルを実行して下さい。"
      ]
    },
    {
      "cell_type": "code",
      "metadata": {
        "cellView": "form",
        "id": "Yp74YAiS4vBH"
      },
      "source": [
        "#@markdown ■■■■■■■■■■■■■■■■■■\r\n",
        "\r\n",
        "#@markdown 【セル④】　入力音声ファイルアップロード\r\n",
        "\r\n",
        "#@markdown ■■■■■■■■■■■■■■■■■■\r\n",
        "\r\n",
        "\r\n",
        "#@markdown 解析対象となる音声のファイルの名前を入力して、セルを実行してください。\r\n",
        "\r\n",
        "input_audio_name = \"input.wav\"  #@param {type: \"string\"}\r\n",
        "\r\n",
        "if not exec_dict or '1' not in exec_dict.keys():\r\n",
        "    print(\"■■■■■■■■■■■■■■■\")\r\n",
        "    print(\"■　** ERROR **\")\r\n",
        "    print(\"■　セル①が実行されていない可能性があります。\")\r\n",
        "    print(\"■　目次から戻って実行してください。\")\r\n",
        "    print(\"■■■■■■■■■■■■■■■\")\r\n",
        "\r\n",
        "if not exec_dict or '2' not in exec_dict.keys():\r\n",
        "    print(\"■■■■■■■■■■■■■■■\")\r\n",
        "    print(\"■　** ERROR **\")\r\n",
        "    print(\"■　セル②が実行されていない可能性があります。\")\r\n",
        "    print(\"■　目次から戻って実行してください。\")\r\n",
        "    print(\"■■■■■■■■■■■■■■■\")\r\n",
        "\r\n",
        "if not exec_dict or '3' not in exec_dict.keys():\r\n",
        "    print(\"■■■■■■■■■■■■■■■\")\r\n",
        "    print(\"■　** ERROR **\")\r\n",
        "    print(\"■　セル③が実行されていない可能性があります。\")\r\n",
        "    print(\"■　目次から戻って実行してください。\")\r\n",
        "    print(\"■■■■■■■■■■■■■■■\")\r\n",
        "\r\n",
        "exec_dict['4'] = True\r\n",
        "\r\n",
        "input_audio_path = f\"{base_path}/{input_audio_name}\"\r\n",
        "\r\n",
        "if not os.path.exists(input_audio_path):\r\n",
        "    print(\"■■■■■■■■■■■■■■■\")\r\n",
        "    print(\"■　** ERROR **\")\r\n",
        "    print(\"■　autotrace 直下に 指定音声 が見つかりませんでした。\")\r\n",
        "    print(\"■　ファイルパス: \" + input_audio_path)\r\n",
        "    print(\"■■■■■■■■■■■■■■■\")\r\n",
        "else:\r\n",
        "    ! cp \"$input_audio_path\" .\r\n",
        "\r\n",
        "    input_audio_path = f\"/content/{input_audio_name}\"\r\n",
        "\r\n",
        "    print(\"■■■■■■■■■■■■■■■\")\r\n",
        "    print(\"■　** OK **\")\r\n",
        "    print(\"■　入力音声 の設定が完了しました。\")\r\n",
        "    print(\"■　ファイルパス: \" + input_audio_path)\r\n",
        "    print(\"■■■■■■■■■■■■■■■\")\r\n",
        "\r\n",
        "play_sound()"
      ],
      "execution_count": null,
      "outputs": []
    },
    {
      "cell_type": "markdown",
      "metadata": {
        "id": "0IgFAyl06IMB"
      },
      "source": [
        "## **⑤　MMD自動トレース（リップ）実行**"
      ]
    },
    {
      "cell_type": "markdown",
      "metadata": {
        "id": "FNO9kZxE6NhX"
      },
      "source": [
        "MMD自動トレースは音声分離・小節指定・モーション出力に分けて実行していただきます。\r\n",
        "\r\n",
        "下の【⑤-A】のセルを実行してください。\r\n",
        "\r\n",
        "\r\n"
      ]
    },
    {
      "cell_type": "markdown",
      "metadata": {
        "id": "ViHqL3GgAX4D"
      },
      "source": [
        "### ⑤-A　音声分離"
      ]
    },
    {
      "cell_type": "code",
      "metadata": {
        "cellView": "form",
        "id": "k0SzyXxc6awB"
      },
      "source": [
        "#@markdown ■■■■■■■■■■■■■■■■■■\r\n",
        "\r\n",
        "#@markdown 【セル⑤-A】　音声分離\r\n",
        "\r\n",
        "#@markdown ■■■■■■■■■■■■■■■■■■\r\n",
        "\r\n",
        "import shutil\r\n",
        "\r\n",
        "if not exec_dict or '1' not in exec_dict.keys():\r\n",
        "    print(\"■■■■■■■■■■■■■■■\")\r\n",
        "    print(\"■　** ERROR **\")\r\n",
        "    print(\"■　セル①が実行されていない可能性があります。\")\r\n",
        "    print(\"■　目次から戻って実行してください。\")\r\n",
        "    print(\"■■■■■■■■■■■■■■■\")\r\n",
        "\r\n",
        "elif not exec_dict or '2' not in exec_dict.keys():\r\n",
        "    print(\"■■■■■■■■■■■■■■■\")\r\n",
        "    print(\"■　** ERROR **\")\r\n",
        "    print(\"■　セル②が実行されていない可能性があります。\")\r\n",
        "    print(\"■　目次から戻って実行してください。\")\r\n",
        "    print(\"■■■■■■■■■■■■■■■\")\r\n",
        "\r\n",
        "elif not exec_dict or '3' not in exec_dict.keys():\r\n",
        "    print(\"■■■■■■■■■■■■■■■\")\r\n",
        "    print(\"■　** ERROR **\")\r\n",
        "    print(\"■　セル③が実行されていない可能性があります。\")\r\n",
        "    print(\"■　目次から戻って実行してください。\")\r\n",
        "    print(\"■■■■■■■■■■■■■■■\")\r\n",
        "\r\n",
        "elif not exec_dict or '4' not in exec_dict.keys():\r\n",
        "    print(\"■■■■■■■■■■■■■■■\")\r\n",
        "    print(\"■　** ERROR **\")\r\n",
        "    print(\"■　セル④が実行されていない可能性があります。\")\r\n",
        "    print(\"■　目次から戻って実行してください。\")\r\n",
        "    print(\"■■■■■■■■■■■■■■■\")\r\n",
        "\r\n",
        "else:\r\n",
        "    if os.path.exists('/content/output'):\r\n",
        "        shutil.rmtree('/content/output')\r\n",
        "\r\n",
        "    import datetime\r\n",
        "    process_img_dir_name = \"{0}_{1:%Y%m%d_%H%M%S}\".format(os.path.basename(input_audio_path).replace('.', '_'), datetime.datetime.now())\r\n",
        "    process_img_dir_path = os.path.join('/content/output', process_img_dir_name)\r\n",
        "    os.makedirs(process_img_dir_path, exist_ok=True)\r\n",
        "\r\n",
        "    ! cd segmentation-kit-mmd/ && python executor.py --audio-file \"$input_audio_path\" --parent-dir \"$process_img_dir_path\" --process vocals --verbose 20 --log-mode 0\r\n",
        "\r\n",
        "    drive_dir_path = os.path.join(base_path, process_img_dir_name)\r\n",
        "\r\n",
        "    # mp4に変換\r\n",
        "    bbox_file_path = f\"{process_img_dir_path}/vocals.wav\"\r\n",
        "\r\n",
        "    import os\r\n",
        "    os.makedirs(drive_dir_path, exist_ok=True)\r\n",
        "\r\n",
        "    ! cp -f  \"$bbox_file_path\" \"$drive_dir_path\"\r\n",
        "\r\n",
        "    print(\"■■■■■■■■■■■■■■■\")\r\n",
        "    print(\"■　** OK **\")\r\n",
        "    print(\"■　「vocals.wav」のGoogleドライブへのコピーが完了しました。\")\r\n",
        "    print(\"■　ファイルパス: \" + drive_dir_path + \"/vocals.wav\")\r\n",
        "    print(\"■■■■■■■■■■■■■■■\")\r\n",
        "\r\n",
        "    exec_dict['5-A'] = True\r\n",
        "\r\n",
        "    play_sound()"
      ],
      "execution_count": null,
      "outputs": []
    },
    {
      "cell_type": "markdown",
      "metadata": {
        "id": "HDj1c6DkASzI"
      },
      "source": [
        "### ⑤-B　小節指定"
      ]
    },
    {
      "cell_type": "markdown",
      "metadata": {
        "id": "UJF9MusIAjtt"
      },
      "source": [
        "分離した声のみのwavデータを、`autotrace` の **「音声ファイル名+実行年月日のサブフォルダ」** に `vocals.wav` というファイル名で配置しているので、それをローカルにダウンロードしてください。\r\n",
        "\r\n",
        "[Audacity](https://forest.watch.impress.co.jp/library/software/audacity/) や [SoundEngine](https://forest.watch.impress.co.jp/library/software/soundengine/) など、音声が波形で見れて、ミリ秒まで確認出来るソフトでwavファイルを開いてください。\r\n",
        "\r\n",
        "（以下、Audacityで説明します）"
      ]
    },
    {
      "cell_type": "markdown",
      "metadata": {
        "id": "pmtZdqoABlxA"
      },
      "source": [
        "wavファイルのどの範囲が、歌詞のどの位置に相当するのかを指定していきます。\r\n",
        "\r\n",
        " - 歌詞ファイルは、ローカルに半角英数字のファイル名で作成してください。\r\n",
        "  - 文字コードは、Shift-JISもしくはUTF-8が処理可能なので、大抵のエディタだとそのままいけると思います。\r\n",
        " - 歌詞は全角ひらがな or 全角カタカナにしてください。\r\n",
        " - 英語などは日本語発音で適当に指定してください。\r\n",
        " - ひとつのブロックは、大体2～3小節くらいを目安にしてください。\r\n",
        " - 長く指定すると、一度判定がズレた時に、ずっとリップがズレるようになります。\r\n",
        " - 小節の区切りに空行を入れてください。\r\n",
        " - 歌詞の上の行に、<開始時間(ミリ秒3桁まで)>-<終了時間(ミリ秒3桁まで)>を指定してください。\r\n",
        " - 開始時間と終了時間は、出来るだけ発声の切れ目（空白を入れない）で指定してください。\r\n",
        " - 長音は、伸びている箇所だけ別に分離した方が綺麗に取れます。\r\n",
        "\r\n",
        "![音声位置](https://drive.google.com/uc?export=view&id=11ZTCGIRW2Whz3oO6CVRuydnSnKcYVs5f)\r\n",
        "\r\n",
        "**例**\r\n",
        "\r\n",
        "シザーハンズ 作曲: [Nem様](https://www.nicovideo.jp/watch/sm8901412) 歌: [ASK様](https://www.nicovideo.jp/watch/sm12835798)\r\n",
        "\r\n",
        "```\r\n",
        "3:31.380-3:32.445\r\n",
        "もうにどとー\r\n",
        "\r\n",
        "3:32.440-3:33.285\r\n",
        "とー\r\n",
        "\r\n",
        "3:33.368-3:35.650\r\n",
        "きずつけなーい\r\n",
        "\r\n",
        "3:35.720-3:40.225\r\n",
        "このては　このては　きみのそのほほに\r\n",
        "\r\n",
        "3:40.669-3:44.726\r\n",
        "いまならばふれられるきがすーる\r\n",
        "\r\n",
        "3:44.915-3:49.508\r\n",
        "もういちど　もういちど　いつかあえたならばー\r\n",
        "\r\n",
        "3:49.845-3:54.107\r\n",
        "あーああああー\r\n",
        "```\r\n"
      ]
    },
    {
      "cell_type": "code",
      "metadata": {
        "id": "WZle_gqTvfCK",
        "cellView": "form"
      },
      "source": [
        "#@markdown ■■■■■■■■■■■■■■■■■■\r\n",
        "\r\n",
        "#@markdown 【セル⑤-B】　歌詞ファイル作成タイマー\r\n",
        "\r\n",
        "#@markdown ■■■■■■■■■■■■■■■■■■\r\n",
        "\r\n",
        "\r\n",
        "#@markdown 歌詞ファイルを作成する際に、一定時間Colabを触らない時間が出来るかと思います。\r\n",
        "\r\n",
        "#@markdown 20分ほど触ってないと警告が出てしまいます。\r\n",
        "\r\n",
        "#@markdown こちらのセルを実行すると、任意分数のタイマーとなりますので、警告が出なくなります。\r\n",
        "\r\n",
        "timer_minutes = 10  #@param {type: \"number\"}\r\n",
        "\r\n",
        "#@markdown 「Ctrl+M+I」のキーボードショートカットで、タイマーを途中でストップさせる事が出来ます。\r\n",
        "\r\n",
        "from time import sleep\r\n",
        "from tqdm import tqdm\r\n",
        "\r\n",
        "try:\r\n",
        "    for _ in tqdm(range(timer_minutes * 60)):\r\n",
        "        sleep(1)\r\n",
        "except:\r\n",
        "    print(\"\")\r\n",
        "    print(\"■■■■■■■■■■■■■■■\")\r\n",
        "    print(\"■　** INFO **\")\r\n",
        "    print(\"■　タイマーを中断しました。\")\r\n",
        "    print(\"■　次のセルを実行してください。\")\r\n",
        "    print(\"■■■■■■■■■■■■■■■\")\r\n",
        "    \r\n",
        "play_sound()"
      ],
      "execution_count": null,
      "outputs": []
    },
    {
      "cell_type": "markdown",
      "metadata": {
        "id": "DpTWqzwMHKX0"
      },
      "source": [
        "### ⑤-C　歌詞ファイルアップロード"
      ]
    },
    {
      "cell_type": "code",
      "metadata": {
        "id": "VuWJbx5mFojE",
        "cellView": "form"
      },
      "source": [
        "#@markdown ■■■■■■■■■■■■■■■■■■\r\n",
        "\r\n",
        "#@markdown 【セル⑤-C】　歌詞ファイルアップロード\r\n",
        "\r\n",
        "#@markdown ■■■■■■■■■■■■■■■■■■\r\n",
        "\r\n",
        "\r\n",
        "#@markdown 歌詞ファイルを `autotrace` フォルダ直下にアップロードして、ファイル名を指定してください。\r\n",
        "\r\n",
        "#@markdown 置いた直後はファイルを認識できません。１分ほど待ってからセルを実行してください。\r\n",
        "\r\n",
        "input_lyrics_name = \"lyrics.txt\"  #@param {type: \"string\"}\r\n",
        "\r\n",
        "if not exec_dict or '1' not in exec_dict.keys():\r\n",
        "    print(\"■■■■■■■■■■■■■■■\")\r\n",
        "    print(\"■　** ERROR **\")\r\n",
        "    print(\"■　セル①が実行されていない可能性があります。\")\r\n",
        "    print(\"■　目次から戻って実行してください。\")\r\n",
        "    print(\"■■■■■■■■■■■■■■■\")\r\n",
        "\r\n",
        "elif not exec_dict or '2' not in exec_dict.keys():\r\n",
        "    print(\"■■■■■■■■■■■■■■■\")\r\n",
        "    print(\"■　** ERROR **\")\r\n",
        "    print(\"■　セル②が実行されていない可能性があります。\")\r\n",
        "    print(\"■　目次から戻って実行してください。\")\r\n",
        "    print(\"■■■■■■■■■■■■■■■\")\r\n",
        "\r\n",
        "elif not exec_dict or '3' not in exec_dict.keys():\r\n",
        "    print(\"■■■■■■■■■■■■■■■\")\r\n",
        "    print(\"■　** ERROR **\")\r\n",
        "    print(\"■　セル③が実行されていない可能性があります。\")\r\n",
        "    print(\"■　目次から戻って実行してください。\")\r\n",
        "    print(\"■■■■■■■■■■■■■■■\")\r\n",
        "\r\n",
        "elif not exec_dict or '4' not in exec_dict.keys():\r\n",
        "    print(\"■■■■■■■■■■■■■■■\")\r\n",
        "    print(\"■　** ERROR **\")\r\n",
        "    print(\"■　セル④が実行されていない可能性があります。\")\r\n",
        "    print(\"■　目次から戻って実行してください。\")\r\n",
        "    print(\"■■■■■■■■■■■■■■■\")\r\n",
        "\r\n",
        "elif not exec_dict or '5-A' not in exec_dict.keys():\r\n",
        "    print(\"■■■■■■■■■■■■■■■\")\r\n",
        "    print(\"■　** ERROR **\")\r\n",
        "    print(\"■　セル⑤-Aが実行されていない可能性があります。\")\r\n",
        "    print(\"■　目次から戻って実行してください。\")\r\n",
        "    print(\"■■■■■■■■■■■■■■■\")\r\n",
        "    \r\n",
        "else:\r\n",
        "    exec_dict['5-C'] = True\r\n",
        "\r\n",
        "    input_lyrics_path = f\"{base_path}/{input_lyrics_name}\"\r\n",
        "\r\n",
        "    if not os.path.exists(input_lyrics_path):\r\n",
        "        print(\"■■■■■■■■■■■■■■■\")\r\n",
        "        print(\"■　** ERROR **\")\r\n",
        "        print(\"■　autotrace 直下に 指定歌詞ファイル が見つかりませんでした。\")\r\n",
        "        print(\"■　ファイルパス: \" + input_lyrics_path)\r\n",
        "        print(\"■■■■■■■■■■■■■■■\")\r\n",
        "    else:\r\n",
        "        ! cp \"$input_lyrics_path\" .\r\n",
        "\r\n",
        "        input_lyrics_path = f\"/content/{input_lyrics_name}\"\r\n",
        "\r\n",
        "        print(\"■■■■■■■■■■■■■■■\")\r\n",
        "        print(\"■　** OK **\")\r\n",
        "        print(\"■　歌詞ファイル の設定が完了しました。\")\r\n",
        "        print(\"■　ファイルパス: \" + input_lyrics_path)\r\n",
        "        print(\"■■■■■■■■■■■■■■■\")\r\n",
        "\r\n",
        "    play_sound()"
      ],
      "execution_count": null,
      "outputs": []
    },
    {
      "cell_type": "markdown",
      "metadata": {
        "id": "zGiE4EEOHQod"
      },
      "source": [
        "### ⑤-D　リップモーション作成"
      ]
    },
    {
      "cell_type": "code",
      "metadata": {
        "id": "9P5z3VkjHHaF",
        "cellView": "form"
      },
      "source": [
        "#@markdown ■■■■■■■■■■■■■■■■■■\r\n",
        "\r\n",
        "#@markdown 【セル⑤-D】　リップモーション作成\r\n",
        "\r\n",
        "#@markdown ■■■■■■■■■■■■■■■■■■\r\n",
        "\r\n",
        "#@markdown 間引き率を指定して、セルを実行してください。\r\n",
        "\r\n",
        "#@markdown **間引き率**　（プルダウンで選択できます）\r\n",
        "\r\n",
        "threshold = 0 #@param [0, 0.1, 0.2, 0.3, 1] {allow-input: true}\r\n",
        "\r\n",
        "#@markdown 間引き率０(ビブラートが入ります。代わりにほぼ全打ちになります。)\r\n",
        "\r\n",
        "#@markdown ![音声位置](https://drive.google.com/uc?export=view&id=1ZuxOWFaQC_nqMnq-fAEeYIvrEAwFZXHB)\r\n",
        "\r\n",
        "#@markdown 間引き率１(台形もしくは三角形のモーフ変化。調整前提用)\r\n",
        "\r\n",
        "#@markdown ![音声位置](https://drive.google.com/uc?export=view&id=1HS7fWOWPHuKmmRAK_M-eVW0deD6f5Y0-)\r\n",
        "\r\n",
        "import shutil\r\n",
        "\r\n",
        "if not exec_dict or '1' not in exec_dict.keys():\r\n",
        "    print(\"■■■■■■■■■■■■■■■\")\r\n",
        "    print(\"■　** ERROR **\")\r\n",
        "    print(\"■　セル①が実行されていない可能性があります。\")\r\n",
        "    print(\"■　目次から戻って実行してください。\")\r\n",
        "    print(\"■■■■■■■■■■■■■■■\")\r\n",
        "\r\n",
        "elif not exec_dict or '2' not in exec_dict.keys():\r\n",
        "    print(\"■■■■■■■■■■■■■■■\")\r\n",
        "    print(\"■　** ERROR **\")\r\n",
        "    print(\"■　セル②が実行されていない可能性があります。\")\r\n",
        "    print(\"■　目次から戻って実行してください。\")\r\n",
        "    print(\"■■■■■■■■■■■■■■■\")\r\n",
        "\r\n",
        "elif not exec_dict or '3' not in exec_dict.keys():\r\n",
        "    print(\"■■■■■■■■■■■■■■■\")\r\n",
        "    print(\"■　** ERROR **\")\r\n",
        "    print(\"■　セル③が実行されていない可能性があります。\")\r\n",
        "    print(\"■　目次から戻って実行してください。\")\r\n",
        "    print(\"■■■■■■■■■■■■■■■\")\r\n",
        "\r\n",
        "elif not exec_dict or '4' not in exec_dict.keys():\r\n",
        "    print(\"■■■■■■■■■■■■■■■\")\r\n",
        "    print(\"■　** ERROR **\")\r\n",
        "    print(\"■　セル④が実行されていない可能性があります。\")\r\n",
        "    print(\"■　目次から戻って実行してください。\")\r\n",
        "    print(\"■■■■■■■■■■■■■■■\")\r\n",
        "\r\n",
        "elif not exec_dict or '5-A' not in exec_dict.keys():\r\n",
        "    print(\"■■■■■■■■■■■■■■■\")\r\n",
        "    print(\"■　** ERROR **\")\r\n",
        "    print(\"■　セル⑤-Aが実行されていない可能性があります。\")\r\n",
        "    print(\"■　目次から戻って実行してください。\")\r\n",
        "    print(\"■■■■■■■■■■■■■■■\")\r\n",
        "\r\n",
        "elif not exec_dict or '5-C' not in exec_dict.keys():\r\n",
        "    print(\"■■■■■■■■■■■■■■■\")\r\n",
        "    print(\"■　** ERROR **\")\r\n",
        "    print(\"■　セル⑤-Cが実行されていない可能性があります。\")\r\n",
        "    print(\"■　目次から戻って実行してください。\")\r\n",
        "    print(\"■■■■■■■■■■■■■■■\")\r\n",
        "\r\n",
        "else:\r\n",
        "    ! cd segmentation-kit-mmd/ && python executor.py --audio-dir \"$process_img_dir_path\" --lyrics-file \"$input_lyrics_path\" --process lip --threshold \"$threshold\" --verbose 20 --log-mode 0\r\n",
        "\r\n",
        "    # 日本語対策でpythonコピー\r\n",
        "    output_name = os.path.basename(input_audio_name).replace('.', '_')\r\n",
        "    output_path = os.path.join(base_path, process_img_dir_name)\r\n",
        "\r\n",
        "    import shutil\r\n",
        "    import glob\r\n",
        "    for vmd_path in glob.glob(os.path.join(process_img_dir_path, \"*.vmd\")):\r\n",
        "        out_vmd_path = os.path.join(drive_dir_path, os.path.basename(vmd_path))\r\n",
        "        shutil.copy(vmd_path, out_vmd_path)\r\n",
        "\r\n",
        "    for exo_path in glob.glob(os.path.join(process_img_dir_path, \"*.exo\")):\r\n",
        "        out_exo_path = os.path.join(drive_dir_path, os.path.basename(exo_path))\r\n",
        "        shutil.copy(exo_path, out_exo_path)\r\n",
        "\r\n",
        "    print(\"■■■■■■■■■■■■■■■\")\r\n",
        "    print(\"■　** OK **\")\r\n",
        "    print(\"■　「vmdファイル」「exoファイル」のGoogleドライブへのコピーが完了しました。\")\r\n",
        "    print(\"■　ファイルパス: \" + drive_dir_path)\r\n",
        "    print(\"■■■■■■■■■■■■■■■\")\r\n",
        "\r\n",
        "    exec_dict['5-D'] = True\r\n",
        "\r\n",
        "    play_sound()"
      ],
      "execution_count": null,
      "outputs": []
    },
    {
      "cell_type": "markdown",
      "metadata": {
        "id": "eh8FTXzfacXn"
      },
      "source": [
        "# 自動トレース後の作業"
      ]
    },
    {
      "cell_type": "markdown",
      "metadata": {
        "id": "Avi7Y9Mxbi31"
      },
      "source": [
        "## ①　GoogleドライブにVMD・EXOが出力されない場合"
      ]
    },
    {
      "cell_type": "markdown",
      "metadata": {
        "id": "-v0Vgu5Wblbu"
      },
      "source": [
        " - **ERROR**　**CRITICAL**　というメッセージが出ていないか確認してください。\r\n",
        " - メッセージが出ていない場合、処理出力フォルダにVMDファイルが出力されているか確認してください。\r\n",
        "   1. 画面左のフォルダーボタンをクリックしてください。\r\n",
        "\r\n",
        " ![フォルダーボタン](https://drive.google.com/uc?export=view&id=1AoTQjFHaz2uY4jGJttmVRkWk2nct2kb3)\r\n",
        "\r\n",
        "   2. `output/<音声ファイル名>_<実行年月日>_<実行時分秒>` フォルダの下にvmdファイルが出来ているか確認してください。\r\n",
        "\r\n",
        " ![motionフォルダ](https://drive.google.com/uc?export=view&id=1gyJnARopn8Qpwg2HSD3VwnYLzxoPqY56)\r\n",
        "\r\n",
        " ![motionフォルダ](https://drive.google.com/uc?export=view&id=1AVY6rPpufDemTpdeCAHWG3a6lVw3bRCS)\r\n",
        "\r\n",
        "     - VMDファイルがある場合、それをダウンロードしてください。\r\n",
        "        - ファイルを選択して右クリックすることで、メニューが表示されます。\r\n",
        "     - VMDファイルがない場合、どこかでエラーが発生しています。\r\n",
        "     - エラーの原因が分からない場合は、ノートブックを共有してください。\r\n",
        "       - 共有方法は、「[準備編](https://colab.research.google.com/github/miu200521358/motion_trace_colab/blob/master/AutoTraceIntroduction.ipynb)」を確認してください。\r\n"
      ]
    },
    {
      "cell_type": "markdown",
      "metadata": {
        "id": "yz7-T0u6c0UN"
      },
      "source": [
        "## ②　リップがズレていて修正したい場合\r\n",
        "\r\n",
        " - 音節の前後に空白が入ってないか\r\n",
        " - 音が始まった後に区切ってないか\r\n",
        " - 長音でズレている場合、長音前後でさらに区切る\r\n",
        "\r\n",
        "修正した歌詞テキストファイルは、**先ほどとは別のファイル名** で、`autotrace` フォルダにアップロードして、`⑤-C` からやり直してください。"
      ]
    },
    {
      "cell_type": "markdown",
      "metadata": {
        "id": "_v5F77SPe-oe"
      },
      "source": [
        "## ③　リップの強弱を見ながら修正したい\r\n",
        "\r\n",
        "[Face And Lips](https://sites.google.com/site/moggproject/home) でモーフ毎の強弱が確認できます。\r\n",
        "\r\n",
        "※「Face And Lips」で出力したVMDデータは、VMDサイジング等他のツールとの相性がちょっと悪いので、一度MMDで読み込んで、別名保存した後のVMDデータでサイジング等を行ってください。"
      ]
    },
    {
      "cell_type": "markdown",
      "metadata": {
        "id": "Q0tf-6tEdwpO"
      },
      "source": [
        "## ④　最初からやり直したい場合\r\n",
        "\r\n",
        "1. メニューの「ランタイム」＞「ランタイムを出荷状態にリセット」＞「はい」をクリックしてください。\r\n",
        "\r\n",
        " ![リセット](https://drive.google.com/uc?export=view&id=1Eyi6OLpndFo63tyJsMtukIiL9p4wqBJs)\r\n",
        "\r\n",
        "2. メニュー右上の「再接続」をクリックしてください。\r\n",
        "\r\n",
        " ![再接続](https://drive.google.com/uc?export=view&id=1h7jF222tU4ZQz_jIMeDKYb9CNIbHTN1k)\r\n",
        "\r\n",
        "3. 緑のチェックマークがついたらリセット完了です。\r\n",
        "\r\n",
        " ![リセット完了](https://drive.google.com/uc?export=view&id=1FXq971EddklGtHMHpm_vQM0MtRvQrJ-y)\r\n"
      ]
    },
    {
      "cell_type": "markdown",
      "metadata": {
        "id": "RKIFbg3uRJ6H"
      },
      "source": [
        "# ライセンス・クレジット"
      ]
    },
    {
      "cell_type": "markdown",
      "metadata": {
        "id": "HVPa8T5RRQr-"
      },
      "source": [
        "MMD自動トレースリップ版の結果を公開・配布する場合は、必ずライセンスのご確認をお願い致します。音声分離だけの場合も同様にご確認ください。\r\n",
        "\r\n",
        "[MMD自動トレースリップ版 ライセンス・クレジット](https://ch.nicovideo.jp/miu200521358/blomaga/ar1975393)"
      ]
    }
  ]
}